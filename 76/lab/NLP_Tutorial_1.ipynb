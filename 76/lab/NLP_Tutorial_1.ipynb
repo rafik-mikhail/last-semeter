{
 "cells": [
  {
   "cell_type": "markdown",
   "metadata": {
    "colab_type": "text",
    "id": "XlA5sqI_SpSh"
   },
   "source": [
    "# <center>CSEN1022 MACHINE LEARNING</center>"
   ]
  },
  {
   "cell_type": "markdown",
   "metadata": {
    "colab_type": "text",
    "id": "J9B0JOtASpSi"
   },
   "source": [
    "\n",
    "# <center>1 - Python Exercises</center>"
   ]
  },
  {
   "cell_type": "markdown",
   "metadata": {
    "colab_type": "text",
    "id": "3terKiqISpSj"
   },
   "source": [
    "** What is 7 to the power of 4?**"
   ]
  },
  {
   "cell_type": "code",
   "execution_count": 1,
   "metadata": {
    "colab": {
     "base_uri": "https://localhost:8080/",
     "height": 34
    },
    "colab_type": "code",
    "executionInfo": {
     "elapsed": 1637,
     "status": "ok",
     "timestamp": 1568272108339,
     "user": {
      "displayName": "Mohamed Abdelfattah",
      "photoUrl": "https://lh3.googleusercontent.com/a-/AAuE7mAK8_Butv8gHthsms0fdcW238PUyltlI3-IfXHdnQ=s64",
      "userId": "18134023503937899585"
     },
     "user_tz": -120
    },
    "id": "gXhVIZz3SpSk",
    "outputId": "09a1e2c7-951e-4ecf-d064-8deb2c58c78f"
   },
   "outputs": [
    {
     "data": {
      "text/plain": [
       "2401"
      ]
     },
     "execution_count": 1,
     "metadata": {},
     "output_type": "execute_result"
    }
   ],
   "source": [
    "7**4"
   ]
  },
  {
   "cell_type": "markdown",
   "metadata": {
    "colab_type": "text",
    "id": "By7t6t3gSpSp"
   },
   "source": [
    "** Split this string:**\n",
    "\n",
    "    s = \"Hi there Sam!\"\n",
    "    \n",
    "**into a list. **"
   ]
  },
  {
   "cell_type": "code",
   "execution_count": 2,
   "metadata": {
    "colab": {},
    "colab_type": "code",
    "id": "AMx--NnwSpSq"
   },
   "outputs": [],
   "source": [
    "s = 'Hi there Sam!'"
   ]
  },
  {
   "cell_type": "code",
   "execution_count": 3,
   "metadata": {
    "colab": {
     "base_uri": "https://localhost:8080/",
     "height": 34
    },
    "colab_type": "code",
    "executionInfo": {
     "elapsed": 1626,
     "status": "ok",
     "timestamp": 1568272108341,
     "user": {
      "displayName": "Mohamed Abdelfattah",
      "photoUrl": "https://lh3.googleusercontent.com/a-/AAuE7mAK8_Butv8gHthsms0fdcW238PUyltlI3-IfXHdnQ=s64",
      "userId": "18134023503937899585"
     },
     "user_tz": -120
    },
    "id": "bsRibopASpSt",
    "outputId": "53b52eeb-c697-45da-c216-704eade98e82"
   },
   "outputs": [
    {
     "data": {
      "text/plain": [
       "['Hi', 'there', 'Sam!']"
      ]
     },
     "execution_count": 3,
     "metadata": {},
     "output_type": "execute_result"
    }
   ],
   "source": [
    "s.split()"
   ]
  },
  {
   "cell_type": "markdown",
   "metadata": {
    "colab_type": "text",
    "id": "_VWGDIh2SpSw"
   },
   "source": [
    "** Given the variables:**\n",
    "\n",
    "    planet = \"Earth\"\n",
    "    diameter = 12742\n",
    "\n",
    "** Use .format() to print the following string: **\n",
    "\n",
    "    The diameter of Earth is 12742 kilometers."
   ]
  },
  {
   "cell_type": "code",
   "execution_count": 4,
   "metadata": {
    "colab": {},
    "colab_type": "code",
    "id": "jy3Rs4BkSpSx"
   },
   "outputs": [],
   "source": [
    "planet = \"Earth\"\n",
    "diameter = 12742"
   ]
  },
  {
   "cell_type": "code",
   "execution_count": 5,
   "metadata": {
    "colab": {
     "base_uri": "https://localhost:8080/",
     "height": 34
    },
    "colab_type": "code",
    "executionInfo": {
     "elapsed": 1615,
     "status": "ok",
     "timestamp": 1568272108342,
     "user": {
      "displayName": "Mohamed Abdelfattah",
      "photoUrl": "https://lh3.googleusercontent.com/a-/AAuE7mAK8_Butv8gHthsms0fdcW238PUyltlI3-IfXHdnQ=s64",
      "userId": "18134023503937899585"
     },
     "user_tz": -120
    },
    "id": "hla0X04KSpS1",
    "outputId": "51e028b6-5ccc-4bde-873b-d0aa2ae9feb4"
   },
   "outputs": [
    {
     "name": "stdout",
     "output_type": "stream",
     "text": [
      "The diameter of Earth is 12742 kilometers.\n"
     ]
    }
   ],
   "source": [
    "print(\"The diameter of {} is {} kilometers.\".format(planet,diameter))"
   ]
  },
  {
   "cell_type": "markdown",
   "metadata": {
    "colab_type": "text",
    "id": "wk6IOxomSpS4"
   },
   "source": [
    "** Given this nested list, use indexing to grab the word \"hello\" **"
   ]
  },
  {
   "cell_type": "code",
   "execution_count": 6,
   "metadata": {
    "colab": {},
    "colab_type": "code",
    "id": "POfwY-27SpS5"
   },
   "outputs": [],
   "source": [
    "lst = [1,2,[3,4],[5,[100,200,['hello']],23,11],1,7]"
   ]
  },
  {
   "cell_type": "code",
   "execution_count": 7,
   "metadata": {
    "colab": {
     "base_uri": "https://localhost:8080/",
     "height": 34
    },
    "colab_type": "code",
    "executionInfo": {
     "elapsed": 1602,
     "status": "ok",
     "timestamp": 1568272108343,
     "user": {
      "displayName": "Mohamed Abdelfattah",
      "photoUrl": "https://lh3.googleusercontent.com/a-/AAuE7mAK8_Butv8gHthsms0fdcW238PUyltlI3-IfXHdnQ=s64",
      "userId": "18134023503937899585"
     },
     "user_tz": -120
    },
    "id": "w3AqO01FSpS8",
    "outputId": "a427b8f4-bae5-4697-f76e-393db94cef6b"
   },
   "outputs": [
    {
     "data": {
      "text/plain": [
       "'hello'"
      ]
     },
     "execution_count": 7,
     "metadata": {},
     "output_type": "execute_result"
    }
   ],
   "source": [
    "lst[3][1][2][0]"
   ]
  },
  {
   "cell_type": "markdown",
   "metadata": {
    "colab_type": "text",
    "id": "Tu1qwh5iSpTA"
   },
   "source": [
    "** Given this nest dictionary grab the word \"hello\". Be prepared, this will be annoying/tricky **"
   ]
  },
  {
   "cell_type": "code",
   "execution_count": 8,
   "metadata": {
    "colab": {},
    "colab_type": "code",
    "id": "6JfvXX3gSpTB"
   },
   "outputs": [],
   "source": [
    "d = {'k1':[1,2,3,{'tricky':['oh','man','inception',{'target':[1,2,3,'hello']}]}]}"
   ]
  },
  {
   "cell_type": "code",
   "execution_count": 9,
   "metadata": {
    "colab": {
     "base_uri": "https://localhost:8080/",
     "height": 34
    },
    "colab_type": "code",
    "executionInfo": {
     "elapsed": 1589,
     "status": "ok",
     "timestamp": 1568272108344,
     "user": {
      "displayName": "Mohamed Abdelfattah",
      "photoUrl": "https://lh3.googleusercontent.com/a-/AAuE7mAK8_Butv8gHthsms0fdcW238PUyltlI3-IfXHdnQ=s64",
      "userId": "18134023503937899585"
     },
     "user_tz": -120
    },
    "id": "-5ez3wFISpTF",
    "outputId": "501bc5c7-453a-45b2-9c28-1afb2c9d5a75"
   },
   "outputs": [
    {
     "data": {
      "text/plain": [
       "'hello'"
      ]
     },
     "execution_count": 9,
     "metadata": {},
     "output_type": "execute_result"
    }
   ],
   "source": [
    "d['k1'][3]['tricky'][3]['target'][3]"
   ]
  },
  {
   "cell_type": "markdown",
   "metadata": {
    "colab_type": "text",
    "id": "s2BXu2A0SpTI"
   },
   "source": [
    "** What is the main difference between a tuple and a list? **"
   ]
  },
  {
   "cell_type": "code",
   "execution_count": 10,
   "metadata": {
    "colab": {},
    "colab_type": "code",
    "id": "VUyJdajySpTJ"
   },
   "outputs": [],
   "source": [
    "# Tuple is immutable"
   ]
  },
  {
   "cell_type": "markdown",
   "metadata": {
    "colab_type": "text",
    "id": "ld634KY9SpTN"
   },
   "source": [
    "** Create a function that grabs the email website domain from a string in the form: **\n",
    "\n",
    "    user@domain.com\n",
    "    \n",
    "**So for example, passing \"user@domain.com\" would return: domain.com**"
   ]
  },
  {
   "cell_type": "code",
   "execution_count": 11,
   "metadata": {
    "colab": {},
    "colab_type": "code",
    "id": "C4cKh0FeSpTO"
   },
   "outputs": [],
   "source": [
    "def domainGet(email):\n",
    "    return email.split('@')[-1]"
   ]
  },
  {
   "cell_type": "code",
   "execution_count": 12,
   "metadata": {
    "colab": {
     "base_uri": "https://localhost:8080/",
     "height": 34
    },
    "colab_type": "code",
    "executionInfo": {
     "elapsed": 1575,
     "status": "ok",
     "timestamp": 1568272108346,
     "user": {
      "displayName": "Mohamed Abdelfattah",
      "photoUrl": "https://lh3.googleusercontent.com/a-/AAuE7mAK8_Butv8gHthsms0fdcW238PUyltlI3-IfXHdnQ=s64",
      "userId": "18134023503937899585"
     },
     "user_tz": -120
    },
    "id": "Ckk7uRp5SpTQ",
    "outputId": "8ae9b296-f69e-42c2-8b29-75ab810b6f86"
   },
   "outputs": [
    {
     "data": {
      "text/plain": [
       "'domain.com'"
      ]
     },
     "execution_count": 12,
     "metadata": {},
     "output_type": "execute_result"
    }
   ],
   "source": [
    "domainGet('user@domain.com')"
   ]
  },
  {
   "cell_type": "markdown",
   "metadata": {
    "colab_type": "text",
    "id": "pYV1HFTbSpTT"
   },
   "source": [
    "** Create a basic function that returns True if the word 'dog' is contained in the input string. Don't worry about edge cases like a punctuation being attached to the word dog, but do account for capitalization. **"
   ]
  },
  {
   "cell_type": "code",
   "execution_count": 13,
   "metadata": {
    "colab": {},
    "colab_type": "code",
    "id": "mcnJ3y_wSpTU"
   },
   "outputs": [],
   "source": [
    "def findDog(st):\n",
    "    return 'dog' in st.lower().split()"
   ]
  },
  {
   "cell_type": "code",
   "execution_count": 14,
   "metadata": {
    "colab": {
     "base_uri": "https://localhost:8080/",
     "height": 34
    },
    "colab_type": "code",
    "executionInfo": {
     "elapsed": 1565,
     "status": "ok",
     "timestamp": 1568272108347,
     "user": {
      "displayName": "Mohamed Abdelfattah",
      "photoUrl": "https://lh3.googleusercontent.com/a-/AAuE7mAK8_Butv8gHthsms0fdcW238PUyltlI3-IfXHdnQ=s64",
      "userId": "18134023503937899585"
     },
     "user_tz": -120
    },
    "id": "MOFqb1-JSpTX",
    "outputId": "25ecc039-0000-4aac-fb24-31da391a243f"
   },
   "outputs": [
    {
     "data": {
      "text/plain": [
       "True"
      ]
     },
     "execution_count": 14,
     "metadata": {},
     "output_type": "execute_result"
    }
   ],
   "source": [
    "findDog('Is there a dog here?')"
   ]
  },
  {
   "cell_type": "markdown",
   "metadata": {
    "colab_type": "text",
    "id": "kXCsiGAESpTa"
   },
   "source": [
    "** Create a function that counts the number of times the word \"dog\" occurs in a string. Again ignore edge cases. **"
   ]
  },
  {
   "cell_type": "code",
   "execution_count": 15,
   "metadata": {
    "colab": {},
    "colab_type": "code",
    "id": "aF_PNICOSpTb"
   },
   "outputs": [],
   "source": [
    "def countDog(st):\n",
    "    count = 0\n",
    "    for word in st.lower().split():\n",
    "        if word == 'dog':\n",
    "            count += 1\n",
    "    return count"
   ]
  },
  {
   "cell_type": "code",
   "execution_count": 16,
   "metadata": {
    "colab": {
     "base_uri": "https://localhost:8080/",
     "height": 34
    },
    "colab_type": "code",
    "executionInfo": {
     "elapsed": 1556,
     "status": "ok",
     "timestamp": 1568272108348,
     "user": {
      "displayName": "Mohamed Abdelfattah",
      "photoUrl": "https://lh3.googleusercontent.com/a-/AAuE7mAK8_Butv8gHthsms0fdcW238PUyltlI3-IfXHdnQ=s64",
      "userId": "18134023503937899585"
     },
     "user_tz": -120
    },
    "id": "3lFVL-cNSpTe",
    "outputId": "cb6f8af1-864a-43e8-f954-70e0e85016d9"
   },
   "outputs": [
    {
     "data": {
      "text/plain": [
       "2"
      ]
     },
     "execution_count": 16,
     "metadata": {},
     "output_type": "execute_result"
    }
   ],
   "source": [
    "countDog('This dog runs faster than the other dog dude!')"
   ]
  },
  {
   "cell_type": "markdown",
   "metadata": {
    "colab_type": "text",
    "id": "_b5-KryBSpTg"
   },
   "source": [
    "** Use lambda expressions and the filter() function to filter out words from a list that don't start with the letter 's'. For example:**\n",
    "\n",
    "    seq = ['soup','dog','salad','cat','great']\n",
    "\n",
    "**should be filtered down to:**\n",
    "\n",
    "    ['soup','salad']"
   ]
  },
  {
   "cell_type": "code",
   "execution_count": 17,
   "metadata": {
    "colab": {},
    "colab_type": "code",
    "id": "uzJCAgKUSpTi"
   },
   "outputs": [],
   "source": [
    "seq = ['soup','dog','salad','cat','great']"
   ]
  },
  {
   "cell_type": "code",
   "execution_count": 18,
   "metadata": {
    "colab": {
     "base_uri": "https://localhost:8080/",
     "height": 34
    },
    "colab_type": "code",
    "executionInfo": {
     "elapsed": 1545,
     "status": "ok",
     "timestamp": 1568272108349,
     "user": {
      "displayName": "Mohamed Abdelfattah",
      "photoUrl": "https://lh3.googleusercontent.com/a-/AAuE7mAK8_Butv8gHthsms0fdcW238PUyltlI3-IfXHdnQ=s64",
      "userId": "18134023503937899585"
     },
     "user_tz": -120
    },
    "id": "SEbv7lyWSpTn",
    "outputId": "c0105ebe-3b58-4c42-b3af-8a1fe367d9b4"
   },
   "outputs": [
    {
     "data": {
      "text/plain": [
       "['soup', 'salad']"
      ]
     },
     "execution_count": 18,
     "metadata": {},
     "output_type": "execute_result"
    }
   ],
   "source": [
    "list(filter(lambda word: word[0]=='s',seq))"
   ]
  },
  {
   "cell_type": "markdown",
   "metadata": {
    "colab_type": "text",
    "id": "gqFImluFSpTs"
   },
   "source": [
    "### Final Problem\n",
    "**You are driving a little too fast, and a police officer stops you. Write a function\n",
    "  to return one of 3 possible results: \"No ticket\", \"Small ticket\", or \"Big Ticket\". \n",
    "  If your speed is 60 or less, the result is \"No Ticket\". If speed is between 61 \n",
    "  and 80 inclusive, the result is \"Small Ticket\". If speed is 81 or more, the result is \"Big    Ticket\". Unless it is your birthday (encoded as a boolean value in the parameters of the function) -- on your birthday, your speed can be 5 higher in all \n",
    "  cases. **"
   ]
  },
  {
   "cell_type": "code",
   "execution_count": 19,
   "metadata": {
    "colab": {},
    "colab_type": "code",
    "id": "omkWvLwOSpTs"
   },
   "outputs": [],
   "source": [
    "def caught_speeding(speed, is_birthday):\n",
    "    \n",
    "    if is_birthday:\n",
    "        speeding = speed - 5\n",
    "    else:\n",
    "        speeding = speed\n",
    "    \n",
    "    if speeding > 80:\n",
    "        return 'Big Ticket'\n",
    "    elif speeding > 60:\n",
    "        return 'Small Ticket'\n",
    "    else:\n",
    "        return 'No Ticket'"
   ]
  },
  {
   "cell_type": "code",
   "execution_count": 20,
   "metadata": {
    "colab": {
     "base_uri": "https://localhost:8080/",
     "height": 0
    },
    "colab_type": "code",
    "executionInfo": {
     "elapsed": 1533,
     "status": "ok",
     "timestamp": 1568272108350,
     "user": {
      "displayName": "Mohamed Abdelfattah",
      "photoUrl": "https://lh3.googleusercontent.com/a-/AAuE7mAK8_Butv8gHthsms0fdcW238PUyltlI3-IfXHdnQ=s64",
      "userId": "18134023503937899585"
     },
     "user_tz": -120
    },
    "id": "mBEw3Mm9SpTv",
    "outputId": "dde8bccf-a6e4-4b93-92f0-2dba590ced08"
   },
   "outputs": [
    {
     "data": {
      "text/plain": [
       "'Small Ticket'"
      ]
     },
     "execution_count": 20,
     "metadata": {},
     "output_type": "execute_result"
    }
   ],
   "source": [
    "caught_speeding(81,True)"
   ]
  },
  {
   "cell_type": "code",
   "execution_count": 21,
   "metadata": {
    "colab": {
     "base_uri": "https://localhost:8080/",
     "height": 0
    },
    "colab_type": "code",
    "executionInfo": {
     "elapsed": 1524,
     "status": "ok",
     "timestamp": 1568272108350,
     "user": {
      "displayName": "Mohamed Abdelfattah",
      "photoUrl": "https://lh3.googleusercontent.com/a-/AAuE7mAK8_Butv8gHthsms0fdcW238PUyltlI3-IfXHdnQ=s64",
      "userId": "18134023503937899585"
     },
     "user_tz": -120
    },
    "id": "_5kAOCIqSpTy",
    "outputId": "b8390eac-c4d8-4807-9c45-12ba8f5817bc"
   },
   "outputs": [
    {
     "data": {
      "text/plain": [
       "'Big Ticket'"
      ]
     },
     "execution_count": 21,
     "metadata": {},
     "output_type": "execute_result"
    }
   ],
   "source": [
    "caught_speeding(81,False)"
   ]
  },
  {
   "cell_type": "markdown",
   "metadata": {
    "colab_type": "text",
    "id": "JwXY-EKGSpT2"
   },
   "source": [
    "# <center>2 - Numpy Exercises </center>"
   ]
  },
  {
   "cell_type": "markdown",
   "metadata": {
    "colab_type": "text",
    "id": "l79i7_GQSpT3"
   },
   "source": [
    "#### Import NumPy as np"
   ]
  },
  {
   "cell_type": "code",
   "execution_count": 22,
   "metadata": {
    "colab": {},
    "colab_type": "code",
    "id": "EBop9CxuSpT3"
   },
   "outputs": [],
   "source": [
    "import numpy as np"
   ]
  },
  {
   "cell_type": "markdown",
   "metadata": {
    "colab_type": "text",
    "id": "jg5PCEUQSpT6"
   },
   "source": [
    "#### Create an array of 10 zeros "
   ]
  },
  {
   "cell_type": "code",
   "execution_count": 23,
   "metadata": {
    "colab": {
     "base_uri": "https://localhost:8080/",
     "height": 0
    },
    "colab_type": "code",
    "executionInfo": {
     "elapsed": 1512,
     "status": "ok",
     "timestamp": 1568272108351,
     "user": {
      "displayName": "Mohamed Abdelfattah",
      "photoUrl": "https://lh3.googleusercontent.com/a-/AAuE7mAK8_Butv8gHthsms0fdcW238PUyltlI3-IfXHdnQ=s64",
      "userId": "18134023503937899585"
     },
     "user_tz": -120
    },
    "id": "pN1vsCsISpT6",
    "outputId": "42e0d142-ed74-4227-cb6f-b7ea48a80cf8"
   },
   "outputs": [
    {
     "data": {
      "text/plain": [
       "array([0., 0., 0., 0., 0., 0., 0., 0., 0., 0.])"
      ]
     },
     "execution_count": 23,
     "metadata": {},
     "output_type": "execute_result"
    }
   ],
   "source": [
    "np.zeros(10)"
   ]
  },
  {
   "cell_type": "markdown",
   "metadata": {
    "colab_type": "text",
    "id": "r3cjeqhlSpT9"
   },
   "source": [
    "#### Create an array of 10 ones"
   ]
  },
  {
   "cell_type": "code",
   "execution_count": 24,
   "metadata": {
    "colab": {
     "base_uri": "https://localhost:8080/",
     "height": 0
    },
    "colab_type": "code",
    "executionInfo": {
     "elapsed": 1506,
     "status": "ok",
     "timestamp": 1568272108352,
     "user": {
      "displayName": "Mohamed Abdelfattah",
      "photoUrl": "https://lh3.googleusercontent.com/a-/AAuE7mAK8_Butv8gHthsms0fdcW238PUyltlI3-IfXHdnQ=s64",
      "userId": "18134023503937899585"
     },
     "user_tz": -120
    },
    "id": "_E9IRkjnSpT9",
    "outputId": "b93e7343-4184-4436-83d4-3a5605aaa332"
   },
   "outputs": [
    {
     "data": {
      "text/plain": [
       "array([1., 1., 1., 1., 1., 1., 1., 1., 1., 1.])"
      ]
     },
     "execution_count": 24,
     "metadata": {},
     "output_type": "execute_result"
    }
   ],
   "source": [
    "np.ones(10)"
   ]
  },
  {
   "cell_type": "markdown",
   "metadata": {
    "colab_type": "text",
    "id": "QsO95FziSpT_"
   },
   "source": [
    "#### Create an array of 10 fives"
   ]
  },
  {
   "cell_type": "code",
   "execution_count": 25,
   "metadata": {
    "colab": {
     "base_uri": "https://localhost:8080/",
     "height": 0
    },
    "colab_type": "code",
    "executionInfo": {
     "elapsed": 1792,
     "status": "ok",
     "timestamp": 1568272108647,
     "user": {
      "displayName": "Mohamed Abdelfattah",
      "photoUrl": "https://lh3.googleusercontent.com/a-/AAuE7mAK8_Butv8gHthsms0fdcW238PUyltlI3-IfXHdnQ=s64",
      "userId": "18134023503937899585"
     },
     "user_tz": -120
    },
    "id": "kxop3X0KSpUA",
    "outputId": "dc78a011-d843-4a44-e1e8-2fe0ea0232be"
   },
   "outputs": [
    {
     "data": {
      "text/plain": [
       "array([5., 5., 5., 5., 5., 5., 5., 5., 5., 5.])"
      ]
     },
     "execution_count": 25,
     "metadata": {},
     "output_type": "execute_result"
    }
   ],
   "source": [
    "np.ones(10) * 5"
   ]
  },
  {
   "cell_type": "markdown",
   "metadata": {
    "colab_type": "text",
    "id": "4wWHFxpeSpUD"
   },
   "source": [
    "#### Create an array of the integers from 10 to 50"
   ]
  },
  {
   "cell_type": "code",
   "execution_count": 26,
   "metadata": {
    "colab": {
     "base_uri": "https://localhost:8080/",
     "height": 0
    },
    "colab_type": "code",
    "executionInfo": {
     "elapsed": 1785,
     "status": "ok",
     "timestamp": 1568272108648,
     "user": {
      "displayName": "Mohamed Abdelfattah",
      "photoUrl": "https://lh3.googleusercontent.com/a-/AAuE7mAK8_Butv8gHthsms0fdcW238PUyltlI3-IfXHdnQ=s64",
      "userId": "18134023503937899585"
     },
     "user_tz": -120
    },
    "id": "ZtLJHT7SSpUE",
    "outputId": "9c567d67-e6f4-42cd-b629-836d55c0a9cf"
   },
   "outputs": [
    {
     "data": {
      "text/plain": [
       "array([10, 11, 12, 13, 14, 15, 16, 17, 18, 19, 20, 21, 22, 23, 24, 25, 26,\n",
       "       27, 28, 29, 30, 31, 32, 33, 34, 35, 36, 37, 38, 39, 40, 41, 42, 43,\n",
       "       44, 45, 46, 47, 48, 49, 50])"
      ]
     },
     "execution_count": 26,
     "metadata": {},
     "output_type": "execute_result"
    }
   ],
   "source": [
    "np.arange(10,51)"
   ]
  },
  {
   "cell_type": "markdown",
   "metadata": {
    "colab_type": "text",
    "id": "uxpn2HApSpUG"
   },
   "source": [
    "#### Create an array of all the even integers from 10 to 50"
   ]
  },
  {
   "cell_type": "code",
   "execution_count": 27,
   "metadata": {
    "colab": {
     "base_uri": "https://localhost:8080/",
     "height": 0
    },
    "colab_type": "code",
    "executionInfo": {
     "elapsed": 1778,
     "status": "ok",
     "timestamp": 1568272108649,
     "user": {
      "displayName": "Mohamed Abdelfattah",
      "photoUrl": "https://lh3.googleusercontent.com/a-/AAuE7mAK8_Butv8gHthsms0fdcW238PUyltlI3-IfXHdnQ=s64",
      "userId": "18134023503937899585"
     },
     "user_tz": -120
    },
    "id": "Y6T2s8mCSpUG",
    "outputId": "3d38329c-2a08-4802-a776-00864c4d2b95"
   },
   "outputs": [
    {
     "data": {
      "text/plain": [
       "array([10, 12, 14, 16, 18, 20, 22, 24, 26, 28, 30, 32, 34, 36, 38, 40, 42,\n",
       "       44, 46, 48, 50])"
      ]
     },
     "execution_count": 27,
     "metadata": {},
     "output_type": "execute_result"
    }
   ],
   "source": [
    "np.arange(10,51,2)"
   ]
  },
  {
   "cell_type": "markdown",
   "metadata": {
    "colab_type": "text",
    "id": "dqTCARKzSpUJ"
   },
   "source": [
    "#### Create a 3x3 matrix with values ranging from 0 to 8"
   ]
  },
  {
   "cell_type": "code",
   "execution_count": 28,
   "metadata": {
    "colab": {
     "base_uri": "https://localhost:8080/",
     "height": 0
    },
    "colab_type": "code",
    "executionInfo": {
     "elapsed": 1771,
     "status": "ok",
     "timestamp": 1568272108649,
     "user": {
      "displayName": "Mohamed Abdelfattah",
      "photoUrl": "https://lh3.googleusercontent.com/a-/AAuE7mAK8_Butv8gHthsms0fdcW238PUyltlI3-IfXHdnQ=s64",
      "userId": "18134023503937899585"
     },
     "user_tz": -120
    },
    "id": "9WGLa974SpUJ",
    "outputId": "2cde265b-5978-422d-ac7b-00d1344ed0a4"
   },
   "outputs": [
    {
     "data": {
      "text/plain": [
       "array([[0, 1, 2],\n",
       "       [3, 4, 5],\n",
       "       [6, 7, 8]])"
      ]
     },
     "execution_count": 28,
     "metadata": {},
     "output_type": "execute_result"
    }
   ],
   "source": [
    "np.arange(9).reshape(3,3)"
   ]
  },
  {
   "cell_type": "markdown",
   "metadata": {
    "colab_type": "text",
    "id": "2j0BYcf_SpUM"
   },
   "source": [
    "#### Create a 3x3 identity matrix"
   ]
  },
  {
   "cell_type": "code",
   "execution_count": 29,
   "metadata": {
    "colab": {
     "base_uri": "https://localhost:8080/",
     "height": 0
    },
    "colab_type": "code",
    "executionInfo": {
     "elapsed": 1764,
     "status": "ok",
     "timestamp": 1568272108650,
     "user": {
      "displayName": "Mohamed Abdelfattah",
      "photoUrl": "https://lh3.googleusercontent.com/a-/AAuE7mAK8_Butv8gHthsms0fdcW238PUyltlI3-IfXHdnQ=s64",
      "userId": "18134023503937899585"
     },
     "user_tz": -120
    },
    "id": "sOiPWaI5SpUN",
    "outputId": "bb32ea5b-af2d-4f90-9319-8c7f670d1e24"
   },
   "outputs": [
    {
     "data": {
      "text/plain": [
       "array([[1., 0., 0.],\n",
       "       [0., 1., 0.],\n",
       "       [0., 0., 1.]])"
      ]
     },
     "execution_count": 29,
     "metadata": {},
     "output_type": "execute_result"
    }
   ],
   "source": [
    "np.eye(3)"
   ]
  },
  {
   "cell_type": "markdown",
   "metadata": {
    "colab_type": "text",
    "id": "j_VrcjCvSpUP"
   },
   "source": [
    "#### Use NumPy to generate a random number between 0 and 1"
   ]
  },
  {
   "cell_type": "code",
   "execution_count": 30,
   "metadata": {
    "colab": {
     "base_uri": "https://localhost:8080/",
     "height": 0
    },
    "colab_type": "code",
    "executionInfo": {
     "elapsed": 1756,
     "status": "ok",
     "timestamp": 1568272108650,
     "user": {
      "displayName": "Mohamed Abdelfattah",
      "photoUrl": "https://lh3.googleusercontent.com/a-/AAuE7mAK8_Butv8gHthsms0fdcW238PUyltlI3-IfXHdnQ=s64",
      "userId": "18134023503937899585"
     },
     "user_tz": -120
    },
    "id": "Zf9u4gdtSpUQ",
    "outputId": "6e4d48fd-8c35-43ab-fd8f-272d3c398673"
   },
   "outputs": [
    {
     "data": {
      "text/plain": [
       "array([0.38588591])"
      ]
     },
     "execution_count": 30,
     "metadata": {},
     "output_type": "execute_result"
    }
   ],
   "source": [
    "np.random.rand(1)"
   ]
  },
  {
   "cell_type": "markdown",
   "metadata": {
    "colab_type": "text",
    "id": "ZfBEqIvESpUS"
   },
   "source": [
    "#### Use NumPy to generate an array of 25 random numbers sampled from a standard normal distribution"
   ]
  },
  {
   "cell_type": "code",
   "execution_count": 31,
   "metadata": {
    "colab": {
     "base_uri": "https://localhost:8080/",
     "height": 0
    },
    "colab_type": "code",
    "executionInfo": {
     "elapsed": 1749,
     "status": "ok",
     "timestamp": 1568272108651,
     "user": {
      "displayName": "Mohamed Abdelfattah",
      "photoUrl": "https://lh3.googleusercontent.com/a-/AAuE7mAK8_Butv8gHthsms0fdcW238PUyltlI3-IfXHdnQ=s64",
      "userId": "18134023503937899585"
     },
     "user_tz": -120
    },
    "id": "pN_cR5RXSpUT",
    "outputId": "252de82c-7a49-40fd-cff4-4d8a35f15e40"
   },
   "outputs": [
    {
     "data": {
      "text/plain": [
       "array([ 1.08629977, -0.03569346, -1.15690292, -0.42980333, -0.39236473,\n",
       "        0.20270334, -0.85499873, -0.14667169, -0.40047294, -1.57261988,\n",
       "        0.28013283,  0.28547339, -0.60287118, -1.26878371,  0.42961247,\n",
       "        0.25534062, -0.16696915,  1.07821041,  0.66838861, -0.04728647,\n",
       "       -0.5498113 ,  1.79280577, -1.15628441, -0.61535364, -0.52734219])"
      ]
     },
     "execution_count": 31,
     "metadata": {},
     "output_type": "execute_result"
    }
   ],
   "source": [
    "np.random.randn(25)"
   ]
  },
  {
   "cell_type": "markdown",
   "metadata": {
    "colab_type": "text",
    "id": "GiK4Eih_SpUV"
   },
   "source": [
    "#### Create the following matrix:"
   ]
  },
  {
   "cell_type": "code",
   "execution_count": 32,
   "metadata": {
    "colab": {
     "base_uri": "https://localhost:8080/",
     "height": 0
    },
    "colab_type": "code",
    "executionInfo": {
     "elapsed": 1741,
     "status": "ok",
     "timestamp": 1568272108651,
     "user": {
      "displayName": "Mohamed Abdelfattah",
      "photoUrl": "https://lh3.googleusercontent.com/a-/AAuE7mAK8_Butv8gHthsms0fdcW238PUyltlI3-IfXHdnQ=s64",
      "userId": "18134023503937899585"
     },
     "user_tz": -120
    },
    "id": "1ctHEx9qSpUW",
    "outputId": "66299cee-3270-4c2a-de2e-03ced237c6bf"
   },
   "outputs": [
    {
     "data": {
      "text/plain": [
       "array([[0.01, 0.02, 0.03, 0.04, 0.05, 0.06, 0.07, 0.08, 0.09, 0.1 ],\n",
       "       [0.11, 0.12, 0.13, 0.14, 0.15, 0.16, 0.17, 0.18, 0.19, 0.2 ],\n",
       "       [0.21, 0.22, 0.23, 0.24, 0.25, 0.26, 0.27, 0.28, 0.29, 0.3 ],\n",
       "       [0.31, 0.32, 0.33, 0.34, 0.35, 0.36, 0.37, 0.38, 0.39, 0.4 ],\n",
       "       [0.41, 0.42, 0.43, 0.44, 0.45, 0.46, 0.47, 0.48, 0.49, 0.5 ],\n",
       "       [0.51, 0.52, 0.53, 0.54, 0.55, 0.56, 0.57, 0.58, 0.59, 0.6 ],\n",
       "       [0.61, 0.62, 0.63, 0.64, 0.65, 0.66, 0.67, 0.68, 0.69, 0.7 ],\n",
       "       [0.71, 0.72, 0.73, 0.74, 0.75, 0.76, 0.77, 0.78, 0.79, 0.8 ],\n",
       "       [0.81, 0.82, 0.83, 0.84, 0.85, 0.86, 0.87, 0.88, 0.89, 0.9 ],\n",
       "       [0.91, 0.92, 0.93, 0.94, 0.95, 0.96, 0.97, 0.98, 0.99, 1.  ]])"
      ]
     },
     "execution_count": 32,
     "metadata": {},
     "output_type": "execute_result"
    }
   ],
   "source": [
    "np.arange(1,101).reshape(10,10) / 100"
   ]
  },
  {
   "cell_type": "markdown",
   "metadata": {
    "colab_type": "text",
    "id": "Aa_qCIXMSpUY"
   },
   "source": [
    "#### Create an array of 20 linearly spaced points between 0 and 1:"
   ]
  },
  {
   "cell_type": "code",
   "execution_count": 33,
   "metadata": {
    "colab": {
     "base_uri": "https://localhost:8080/",
     "height": 0
    },
    "colab_type": "code",
    "executionInfo": {
     "elapsed": 1733,
     "status": "ok",
     "timestamp": 1568272108652,
     "user": {
      "displayName": "Mohamed Abdelfattah",
      "photoUrl": "https://lh3.googleusercontent.com/a-/AAuE7mAK8_Butv8gHthsms0fdcW238PUyltlI3-IfXHdnQ=s64",
      "userId": "18134023503937899585"
     },
     "user_tz": -120
    },
    "id": "IsVlBCHdSpUZ",
    "outputId": "719eeb65-2f00-44a2-8e3d-bb7517832113"
   },
   "outputs": [
    {
     "data": {
      "text/plain": [
       "array([0.        , 0.05263158, 0.10526316, 0.15789474, 0.21052632,\n",
       "       0.26315789, 0.31578947, 0.36842105, 0.42105263, 0.47368421,\n",
       "       0.52631579, 0.57894737, 0.63157895, 0.68421053, 0.73684211,\n",
       "       0.78947368, 0.84210526, 0.89473684, 0.94736842, 1.        ])"
      ]
     },
     "execution_count": 33,
     "metadata": {},
     "output_type": "execute_result"
    }
   ],
   "source": [
    "np.linspace(0,1,20)"
   ]
  },
  {
   "cell_type": "markdown",
   "metadata": {
    "colab_type": "text",
    "id": "KaDSdFTwSpUc"
   },
   "source": [
    "## Numpy Indexing and Selection\n",
    "\n",
    "Now you will be given a few matrices, and be asked to replicate the resulting matrix outputs:"
   ]
  },
  {
   "cell_type": "code",
   "execution_count": 34,
   "metadata": {
    "colab": {
     "base_uri": "https://localhost:8080/",
     "height": 0
    },
    "colab_type": "code",
    "executionInfo": {
     "elapsed": 1726,
     "status": "ok",
     "timestamp": 1568272108653,
     "user": {
      "displayName": "Mohamed Abdelfattah",
      "photoUrl": "https://lh3.googleusercontent.com/a-/AAuE7mAK8_Butv8gHthsms0fdcW238PUyltlI3-IfXHdnQ=s64",
      "userId": "18134023503937899585"
     },
     "user_tz": -120
    },
    "id": "Xb64L3pYSpUd",
    "outputId": "1844b7f8-3bd3-46e3-c9fb-bbe7fbb19982"
   },
   "outputs": [
    {
     "data": {
      "text/plain": [
       "array([[ 1,  2,  3,  4,  5],\n",
       "       [ 6,  7,  8,  9, 10],\n",
       "       [11, 12, 13, 14, 15],\n",
       "       [16, 17, 18, 19, 20],\n",
       "       [21, 22, 23, 24, 25]])"
      ]
     },
     "execution_count": 34,
     "metadata": {},
     "output_type": "execute_result"
    }
   ],
   "source": [
    "mat = np.arange(1,26).reshape(5,5)\n",
    "mat"
   ]
  },
  {
   "cell_type": "code",
   "execution_count": 35,
   "metadata": {
    "colab": {},
    "colab_type": "code",
    "id": "-hiNDk1HSpUf"
   },
   "outputs": [],
   "source": [
    "# WRITE CODE HERE THAT REPRODUCES THE OUTPUT OF THE CELL BELOW\n",
    "# BE CAREFUL NOT TO RUN THE CELL BELOW, OTHERWISE YOU WON'T\n",
    "# BE ABLE TO SEE THE OUTPUT ANY MORE"
   ]
  },
  {
   "cell_type": "code",
   "execution_count": 36,
   "metadata": {
    "colab": {
     "base_uri": "https://localhost:8080/",
     "height": 0
    },
    "colab_type": "code",
    "executionInfo": {
     "elapsed": 1714,
     "status": "ok",
     "timestamp": 1568272108654,
     "user": {
      "displayName": "Mohamed Abdelfattah",
      "photoUrl": "https://lh3.googleusercontent.com/a-/AAuE7mAK8_Butv8gHthsms0fdcW238PUyltlI3-IfXHdnQ=s64",
      "userId": "18134023503937899585"
     },
     "user_tz": -120
    },
    "id": "CaTBLqgsSpUh",
    "outputId": "5aa670f7-ac78-47f8-acab-321302bb26fd"
   },
   "outputs": [
    {
     "data": {
      "text/plain": [
       "array([[12, 13, 14, 15],\n",
       "       [17, 18, 19, 20],\n",
       "       [22, 23, 24, 25]])"
      ]
     },
     "execution_count": 36,
     "metadata": {},
     "output_type": "execute_result"
    }
   ],
   "source": [
    "mat[2:,1:]"
   ]
  },
  {
   "cell_type": "code",
   "execution_count": 37,
   "metadata": {
    "colab": {},
    "colab_type": "code",
    "id": "9oNmDCcySpUn"
   },
   "outputs": [],
   "source": [
    "# WRITE CODE HERE THAT REPRODUCES THE OUTPUT OF THE CELL BELOW\n",
    "# BE CAREFUL NOT TO RUN THE CELL BELOW, OTHERWISE YOU WON'T\n",
    "# BE ABLE TO SEE THE OUTPUT ANY MORE"
   ]
  },
  {
   "cell_type": "code",
   "execution_count": 38,
   "metadata": {
    "colab": {
     "base_uri": "https://localhost:8080/",
     "height": 0
    },
    "colab_type": "code",
    "executionInfo": {
     "elapsed": 1704,
     "status": "ok",
     "timestamp": 1568272108655,
     "user": {
      "displayName": "Mohamed Abdelfattah",
      "photoUrl": "https://lh3.googleusercontent.com/a-/AAuE7mAK8_Butv8gHthsms0fdcW238PUyltlI3-IfXHdnQ=s64",
      "userId": "18134023503937899585"
     },
     "user_tz": -120
    },
    "id": "D4g4ZLRsSpUp",
    "outputId": "b2fc2902-defc-4cef-c321-c10d7d9aaf6a"
   },
   "outputs": [
    {
     "data": {
      "text/plain": [
       "20"
      ]
     },
     "execution_count": 38,
     "metadata": {},
     "output_type": "execute_result"
    }
   ],
   "source": [
    "mat[3,4]"
   ]
  },
  {
   "cell_type": "code",
   "execution_count": 39,
   "metadata": {
    "colab": {},
    "colab_type": "code",
    "id": "yrApaRI_SpUs"
   },
   "outputs": [],
   "source": [
    "# WRITE CODE HERE THAT REPRODUCES THE OUTPUT OF THE CELL BELOW\n",
    "# BE CAREFUL NOT TO RUN THE CELL BELOW, OTHERWISE YOU WON'T\n",
    "# BE ABLE TO SEE THE OUTPUT ANY MORE"
   ]
  },
  {
   "cell_type": "code",
   "execution_count": 40,
   "metadata": {
    "colab": {
     "base_uri": "https://localhost:8080/",
     "height": 0
    },
    "colab_type": "code",
    "executionInfo": {
     "elapsed": 1693,
     "status": "ok",
     "timestamp": 1568272108656,
     "user": {
      "displayName": "Mohamed Abdelfattah",
      "photoUrl": "https://lh3.googleusercontent.com/a-/AAuE7mAK8_Butv8gHthsms0fdcW238PUyltlI3-IfXHdnQ=s64",
      "userId": "18134023503937899585"
     },
     "user_tz": -120
    },
    "id": "UXXTGiBqSpUu",
    "outputId": "dcf86f7e-72d9-48a2-816f-3e17e89c31e6"
   },
   "outputs": [
    {
     "data": {
      "text/plain": [
       "array([[ 2],\n",
       "       [ 7],\n",
       "       [12]])"
      ]
     },
     "execution_count": 40,
     "metadata": {},
     "output_type": "execute_result"
    }
   ],
   "source": [
    "mat[:3,1:2]"
   ]
  },
  {
   "cell_type": "code",
   "execution_count": 41,
   "metadata": {
    "colab": {},
    "colab_type": "code",
    "id": "uXPr9P96SpUz"
   },
   "outputs": [],
   "source": [
    "# WRITE CODE HERE THAT REPRODUCES THE OUTPUT OF THE CELL BELOW\n",
    "# BE CAREFUL NOT TO RUN THE CELL BELOW, OTHERWISE YOU WON'T\n",
    "# BE ABLE TO SEE THE OUTPUT ANY MORE"
   ]
  },
  {
   "cell_type": "code",
   "execution_count": 42,
   "metadata": {
    "colab": {
     "base_uri": "https://localhost:8080/",
     "height": 0
    },
    "colab_type": "code",
    "executionInfo": {
     "elapsed": 1680,
     "status": "ok",
     "timestamp": 1568272108657,
     "user": {
      "displayName": "Mohamed Abdelfattah",
      "photoUrl": "https://lh3.googleusercontent.com/a-/AAuE7mAK8_Butv8gHthsms0fdcW238PUyltlI3-IfXHdnQ=s64",
      "userId": "18134023503937899585"
     },
     "user_tz": -120
    },
    "id": "uduwIqyiSpU2",
    "outputId": "aaa72054-3254-4897-d93e-06d6ff134866"
   },
   "outputs": [
    {
     "data": {
      "text/plain": [
       "array([21, 22, 23, 24, 25])"
      ]
     },
     "execution_count": 42,
     "metadata": {},
     "output_type": "execute_result"
    }
   ],
   "source": [
    "mat[4,:]"
   ]
  },
  {
   "cell_type": "code",
   "execution_count": 43,
   "metadata": {
    "colab": {},
    "colab_type": "code",
    "id": "al6P-chGSpU4"
   },
   "outputs": [],
   "source": [
    "# WRITE CODE HERE THAT REPRODUCES THE OUTPUT OF THE CELL BELOW\n",
    "# BE CAREFUL NOT TO RUN THE CELL BELOW, OTHERWISE YOU WON'T\n",
    "# BE ABLE TO SEE THE OUTPUT ANY MORE"
   ]
  },
  {
   "cell_type": "code",
   "execution_count": 44,
   "metadata": {
    "colab": {
     "base_uri": "https://localhost:8080/",
     "height": 0
    },
    "colab_type": "code",
    "executionInfo": {
     "elapsed": 1672,
     "status": "ok",
     "timestamp": 1568272108658,
     "user": {
      "displayName": "Mohamed Abdelfattah",
      "photoUrl": "https://lh3.googleusercontent.com/a-/AAuE7mAK8_Butv8gHthsms0fdcW238PUyltlI3-IfXHdnQ=s64",
      "userId": "18134023503937899585"
     },
     "user_tz": -120
    },
    "id": "z67sGKx6SpU6",
    "outputId": "4c796ed1-7244-413f-b435-85895805a7a1"
   },
   "outputs": [
    {
     "data": {
      "text/plain": [
       "array([[16, 17, 18, 19, 20],\n",
       "       [21, 22, 23, 24, 25]])"
      ]
     },
     "execution_count": 44,
     "metadata": {},
     "output_type": "execute_result"
    }
   ],
   "source": [
    "mat[3:5,:]"
   ]
  },
  {
   "cell_type": "markdown",
   "metadata": {
    "colab_type": "text",
    "id": "F5UffeItSpU8"
   },
   "source": [
    "### Now do the following"
   ]
  },
  {
   "cell_type": "markdown",
   "metadata": {
    "colab_type": "text",
    "id": "xrZ_DJ3eSpU8"
   },
   "source": [
    "#### Get the sum of all the values in mat"
   ]
  },
  {
   "cell_type": "code",
   "execution_count": 45,
   "metadata": {
    "colab": {
     "base_uri": "https://localhost:8080/",
     "height": 0
    },
    "colab_type": "code",
    "executionInfo": {
     "elapsed": 1664,
     "status": "ok",
     "timestamp": 1568272108658,
     "user": {
      "displayName": "Mohamed Abdelfattah",
      "photoUrl": "https://lh3.googleusercontent.com/a-/AAuE7mAK8_Butv8gHthsms0fdcW238PUyltlI3-IfXHdnQ=s64",
      "userId": "18134023503937899585"
     },
     "user_tz": -120
    },
    "id": "VGxTLy5lSpU9",
    "outputId": "7325b45d-9408-433b-9ca2-0bdea173a3f8"
   },
   "outputs": [
    {
     "data": {
      "text/plain": [
       "325"
      ]
     },
     "execution_count": 45,
     "metadata": {},
     "output_type": "execute_result"
    }
   ],
   "source": [
    "mat.sum()"
   ]
  },
  {
   "cell_type": "markdown",
   "metadata": {
    "colab_type": "text",
    "id": "FqN6qGZCSpU-"
   },
   "source": [
    "#### Get the standard deviation of the values in mat"
   ]
  },
  {
   "cell_type": "code",
   "execution_count": 46,
   "metadata": {
    "colab": {
     "base_uri": "https://localhost:8080/",
     "height": 0
    },
    "colab_type": "code",
    "executionInfo": {
     "elapsed": 1658,
     "status": "ok",
     "timestamp": 1568272108659,
     "user": {
      "displayName": "Mohamed Abdelfattah",
      "photoUrl": "https://lh3.googleusercontent.com/a-/AAuE7mAK8_Butv8gHthsms0fdcW238PUyltlI3-IfXHdnQ=s64",
      "userId": "18134023503937899585"
     },
     "user_tz": -120
    },
    "id": "R6ZrfVrASpU_",
    "outputId": "e58b07a3-f969-4c2f-f9f8-587cfcb926a2"
   },
   "outputs": [
    {
     "data": {
      "text/plain": [
       "7.211102550927978"
      ]
     },
     "execution_count": 46,
     "metadata": {},
     "output_type": "execute_result"
    }
   ],
   "source": [
    "mat.std()"
   ]
  },
  {
   "cell_type": "markdown",
   "metadata": {
    "colab_type": "text",
    "id": "i75LIXQ4SpVB"
   },
   "source": [
    "#### Get the sum of all the columns in mat"
   ]
  },
  {
   "cell_type": "code",
   "execution_count": 47,
   "metadata": {
    "colab": {
     "base_uri": "https://localhost:8080/",
     "height": 0
    },
    "colab_type": "code",
    "executionInfo": {
     "elapsed": 1651,
     "status": "ok",
     "timestamp": 1568272108659,
     "user": {
      "displayName": "Mohamed Abdelfattah",
      "photoUrl": "https://lh3.googleusercontent.com/a-/AAuE7mAK8_Butv8gHthsms0fdcW238PUyltlI3-IfXHdnQ=s64",
      "userId": "18134023503937899585"
     },
     "user_tz": -120
    },
    "id": "NbF6B0SuSpVC",
    "outputId": "93811b55-e510-4681-82e6-712265d2a6be",
    "scrolled": true
   },
   "outputs": [
    {
     "data": {
      "text/plain": [
       "array([55, 60, 65, 70, 75])"
      ]
     },
     "execution_count": 47,
     "metadata": {},
     "output_type": "execute_result"
    }
   ],
   "source": [
    "mat.sum(axis=0)"
   ]
  },
  {
   "cell_type": "markdown",
   "metadata": {},
   "source": [
    "#### Create Matrix A [[3,6,7],[5,-3,0]] and Matrix B [[1,1],[2,1],[3,-3]]"
   ]
  },
  {
   "cell_type": "code",
   "execution_count": 48,
   "metadata": {},
   "outputs": [],
   "source": [
    "matA = np.array([[3,6,7],[5,-3,0]])\n",
    "matB = np.array([[1,1],[2,1],[3,-3]])"
   ]
  },
  {
   "cell_type": "markdown",
   "metadata": {},
   "source": [
    "#### Get the result of multiplying both matrices"
   ]
  },
  {
   "cell_type": "code",
   "execution_count": 49,
   "metadata": {},
   "outputs": [
    {
     "data": {
      "text/plain": [
       "array([[ 36, -12],\n",
       "       [ -1,   2]])"
      ]
     },
     "execution_count": 49,
     "metadata": {},
     "output_type": "execute_result"
    }
   ],
   "source": [
    "np.dot(matA,matB)"
   ]
  },
  {
   "cell_type": "markdown",
   "metadata": {},
   "source": [
    "#### Transpose both matrices and multiply them together"
   ]
  },
  {
   "cell_type": "code",
   "execution_count": 50,
   "metadata": {},
   "outputs": [
    {
     "data": {
      "text/plain": [
       "array([[ 8, 11, -6],\n",
       "       [ 3,  9, 27],\n",
       "       [ 7, 14, 21]])"
      ]
     },
     "execution_count": 50,
     "metadata": {},
     "output_type": "execute_result"
    }
   ],
   "source": [
    "np.dot(matA.transpose(),matB.transpose())"
   ]
  },
  {
   "cell_type": "markdown",
   "metadata": {},
   "source": [
    "#### Multiply the transpose of matrix B with matrix A"
   ]
  },
  {
   "cell_type": "code",
   "execution_count": 51,
   "metadata": {},
   "outputs": [
    {
     "data": {
      "text/plain": [
       "array([[ 3, 12, 21],\n",
       "       [ 5, -3,  0]])"
      ]
     },
     "execution_count": 51,
     "metadata": {},
     "output_type": "execute_result"
    }
   ],
   "source": [
    "np.multiply(matB.transpose(),matA)"
   ]
  },
  {
   "cell_type": "markdown",
   "metadata": {},
   "source": [
    "#### Do it without using np.multiply()"
   ]
  },
  {
   "cell_type": "code",
   "execution_count": 52,
   "metadata": {},
   "outputs": [
    {
     "data": {
      "text/plain": [
       "array([[ 3, 12, 21],\n",
       "       [ 5, -3,  0]])"
      ]
     },
     "execution_count": 52,
     "metadata": {},
     "output_type": "execute_result"
    }
   ],
   "source": [
    "matB.transpose()*matA"
   ]
  },
  {
   "cell_type": "markdown",
   "metadata": {},
   "source": [
    "#### Multiply the first row of Matrix A with the first column of matrix B"
   ]
  },
  {
   "cell_type": "code",
   "execution_count": 53,
   "metadata": {},
   "outputs": [
    {
     "data": {
      "text/plain": [
       "array([ 3, 12, 21])"
      ]
     },
     "execution_count": 53,
     "metadata": {},
     "output_type": "execute_result"
    }
   ],
   "source": [
    "matA[0]*matB[:,0]"
   ]
  },
  {
   "cell_type": "markdown",
   "metadata": {},
   "source": [
    "#### Get the dot product of multiplying the same two vectors"
   ]
  },
  {
   "cell_type": "code",
   "execution_count": 54,
   "metadata": {},
   "outputs": [
    {
     "data": {
      "text/plain": [
       "36"
      ]
     },
     "execution_count": 54,
     "metadata": {},
     "output_type": "execute_result"
    }
   ],
   "source": [
    "np.dot(matA[0],matB[:,0])"
   ]
  },
  {
   "cell_type": "markdown",
   "metadata": {},
   "source": [
    "#### Do it without using np.dot()"
   ]
  },
  {
   "cell_type": "code",
   "execution_count": 55,
   "metadata": {},
   "outputs": [
    {
     "data": {
      "text/plain": [
       "36"
      ]
     },
     "execution_count": 55,
     "metadata": {},
     "output_type": "execute_result"
    }
   ],
   "source": [
    "np.sum(matA[0]*matB[:,0])"
   ]
  },
  {
   "cell_type": "markdown",
   "metadata": {},
   "source": [
    "#### Multiply the first row of Matrix A with all columns of matrix B"
   ]
  },
  {
   "cell_type": "code",
   "execution_count": 56,
   "metadata": {},
   "outputs": [
    {
     "data": {
      "text/plain": [
       "array([[  3,   3],\n",
       "       [ 12,   6],\n",
       "       [ 21, -21]])"
      ]
     },
     "execution_count": 56,
     "metadata": {},
     "output_type": "execute_result"
    }
   ],
   "source": [
    "(matA[0] * matB.transpose()).transpose()"
   ]
  },
  {
   "cell_type": "markdown",
   "metadata": {},
   "source": [
    "#### Calculate the row-wise mean of Matrix B"
   ]
  },
  {
   "cell_type": "code",
   "execution_count": 57,
   "metadata": {},
   "outputs": [
    {
     "data": {
      "text/plain": [
       "array([ 2.        , -0.33333333])"
      ]
     },
     "execution_count": 57,
     "metadata": {},
     "output_type": "execute_result"
    }
   ],
   "source": [
    "np.mean(matB,axis=0)"
   ]
  },
  {
   "cell_type": "markdown",
   "metadata": {},
   "source": [
    "#### Subtract that mean from each row in matrix B"
   ]
  },
  {
   "cell_type": "code",
   "execution_count": 58,
   "metadata": {},
   "outputs": [
    {
     "data": {
      "text/plain": [
       "array([[-1.        ,  1.33333333],\n",
       "       [ 0.        ,  1.33333333],\n",
       "       [ 1.        , -2.66666667]])"
      ]
     },
     "execution_count": 58,
     "metadata": {},
     "output_type": "execute_result"
    }
   ],
   "source": [
    "np.subtract(matB,np.mean(matB,axis=0))"
   ]
  },
  {
   "cell_type": "markdown",
   "metadata": {},
   "source": [
    "#### Do it without using np.subtract()"
   ]
  },
  {
   "cell_type": "code",
   "execution_count": 59,
   "metadata": {},
   "outputs": [
    {
     "data": {
      "text/plain": [
       "array([[-1.        ,  1.33333333],\n",
       "       [ 0.        ,  1.33333333],\n",
       "       [ 1.        , -2.66666667]])"
      ]
     },
     "execution_count": 59,
     "metadata": {},
     "output_type": "execute_result"
    }
   ],
   "source": [
    "matB - np.mean(matB,axis=0)"
   ]
  },
  {
   "cell_type": "markdown",
   "metadata": {},
   "source": [
    "#### Multiply the mean by each row"
   ]
  },
  {
   "cell_type": "code",
   "execution_count": 60,
   "metadata": {},
   "outputs": [
    {
     "data": {
      "text/plain": [
       "array([[ 2.        , -0.33333333],\n",
       "       [ 4.        , -0.33333333],\n",
       "       [ 6.        ,  1.        ]])"
      ]
     },
     "execution_count": 60,
     "metadata": {},
     "output_type": "execute_result"
    }
   ],
   "source": [
    "np.mean(matB,axis=0) * matB"
   ]
  },
  {
   "cell_type": "markdown",
   "metadata": {
    "colab_type": "text",
    "collapsed": true,
    "id": "w1-KNv_xSpVD"
   },
   "source": [
    "# <center>3 - Pandas Exercises</center>"
   ]
  },
  {
   "cell_type": "code",
   "execution_count": 61,
   "metadata": {
    "colab": {},
    "colab_type": "code",
    "id": "x1TYRuAFSpVE"
   },
   "outputs": [],
   "source": [
    "import pandas as pd"
   ]
  },
  {
   "cell_type": "markdown",
   "metadata": {
    "colab": {
     "base_uri": "https://localhost:8080/",
     "height": 74,
     "resources": {
      "http://localhost:8080/nbextensions/google.colab/files.js": {
       "data": "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",
       "headers": [
        [
         "content-type",
         "application/javascript"
        ]
       ],
       "ok": true,
       "status": 200,
       "status_text": ""
      }
     }
    },
    "colab_type": "code",
    "executionInfo": {
     "elapsed": 51934,
     "status": "ok",
     "timestamp": 1568272410202,
     "user": {
      "displayName": "Mohamed Abdelfattah",
      "photoUrl": "https://lh3.googleusercontent.com/a-/AAuE7mAK8_Butv8gHthsms0fdcW238PUyltlI3-IfXHdnQ=s64",
      "userId": "18134023503937899585"
     },
     "user_tz": -120
    },
    "id": "UgMXthmrSpVH",
    "outputId": "2e1077fa-6566-4d1f-d2bb-31b8e9ef4d85"
   },
   "source": [
    "### If you're using colab then you need to use the following two cells, otherwise skip them"
   ]
  },
  {
   "cell_type": "code",
   "execution_count": 62,
   "metadata": {},
   "outputs": [],
   "source": [
    "#from google.colab import files\n",
    "#uploaded = files.upload()"
   ]
  },
  {
   "cell_type": "code",
   "execution_count": 63,
   "metadata": {},
   "outputs": [],
   "source": [
    "#import io\n",
    "#ecom = pd.read_csv(io.BytesIO(uploaded['Ecommerce_Purchases.csv']))"
   ]
  },
  {
   "cell_type": "code",
   "execution_count": 64,
   "metadata": {
    "colab": {},
    "colab_type": "code",
    "id": "fisTPRX6UNUf"
   },
   "outputs": [],
   "source": [
    "# USE THIS ONE, IF YOU'RE NOT USING COLAB\n",
    "ecom = pd.read_csv('Ecommerce_Purchases.csv')"
   ]
  },
  {
   "cell_type": "markdown",
   "metadata": {
    "colab_type": "text",
    "id": "zNS6tkHJSpVJ"
   },
   "source": [
    "**Check the head of the DataFrame.**"
   ]
  },
  {
   "cell_type": "code",
   "execution_count": 65,
   "metadata": {
    "colab": {
     "base_uri": "https://localhost:8080/",
     "height": 340
    },
    "colab_type": "code",
    "executionInfo": {
     "elapsed": 1286,
     "status": "ok",
     "timestamp": 1568272421285,
     "user": {
      "displayName": "Mohamed Abdelfattah",
      "photoUrl": "https://lh3.googleusercontent.com/a-/AAuE7mAK8_Butv8gHthsms0fdcW238PUyltlI3-IfXHdnQ=s64",
      "userId": "18134023503937899585"
     },
     "user_tz": -120
    },
    "id": "DO9FIqOoSpVJ",
    "outputId": "00c635e1-36d6-405b-f4b4-e7cf0a138afc"
   },
   "outputs": [
    {
     "data": {
      "text/html": [
       "<div>\n",
       "<style scoped>\n",
       "    .dataframe tbody tr th:only-of-type {\n",
       "        vertical-align: middle;\n",
       "    }\n",
       "\n",
       "    .dataframe tbody tr th {\n",
       "        vertical-align: top;\n",
       "    }\n",
       "\n",
       "    .dataframe thead th {\n",
       "        text-align: right;\n",
       "    }\n",
       "</style>\n",
       "<table border=\"1\" class=\"dataframe\">\n",
       "  <thead>\n",
       "    <tr style=\"text-align: right;\">\n",
       "      <th></th>\n",
       "      <th>Address</th>\n",
       "      <th>Lot</th>\n",
       "      <th>AM or PM</th>\n",
       "      <th>Browser Info</th>\n",
       "      <th>Company</th>\n",
       "      <th>Credit Card</th>\n",
       "      <th>CC Exp Date</th>\n",
       "      <th>CC Security Code</th>\n",
       "      <th>CC Provider</th>\n",
       "      <th>Email</th>\n",
       "      <th>Job</th>\n",
       "      <th>IP Address</th>\n",
       "      <th>Language</th>\n",
       "      <th>Purchase Price</th>\n",
       "    </tr>\n",
       "  </thead>\n",
       "  <tbody>\n",
       "    <tr>\n",
       "      <th>0</th>\n",
       "      <td>16629 Pace Camp Apt. 448\\nAlexisborough, NE 77...</td>\n",
       "      <td>46 in</td>\n",
       "      <td>PM</td>\n",
       "      <td>Opera/9.56.(X11; Linux x86_64; sl-SI) Presto/2...</td>\n",
       "      <td>Martinez-Herman</td>\n",
       "      <td>6011929061123406</td>\n",
       "      <td>02/20</td>\n",
       "      <td>900</td>\n",
       "      <td>JCB 16 digit</td>\n",
       "      <td>pdunlap@yahoo.com</td>\n",
       "      <td>Scientist, product/process development</td>\n",
       "      <td>149.146.147.205</td>\n",
       "      <td>el</td>\n",
       "      <td>98.14</td>\n",
       "    </tr>\n",
       "    <tr>\n",
       "      <th>1</th>\n",
       "      <td>9374 Jasmine Spurs Suite 508\\nSouth John, TN 8...</td>\n",
       "      <td>28 rn</td>\n",
       "      <td>PM</td>\n",
       "      <td>Opera/8.93.(Windows 98; Win 9x 4.90; en-US) Pr...</td>\n",
       "      <td>Fletcher, Richards and Whitaker</td>\n",
       "      <td>3337758169645356</td>\n",
       "      <td>11/18</td>\n",
       "      <td>561</td>\n",
       "      <td>Mastercard</td>\n",
       "      <td>anthony41@reed.com</td>\n",
       "      <td>Drilling engineer</td>\n",
       "      <td>15.160.41.51</td>\n",
       "      <td>fr</td>\n",
       "      <td>70.73</td>\n",
       "    </tr>\n",
       "    <tr>\n",
       "      <th>2</th>\n",
       "      <td>Unit 0065 Box 5052\\nDPO AP 27450</td>\n",
       "      <td>94 vE</td>\n",
       "      <td>PM</td>\n",
       "      <td>Mozilla/5.0 (compatible; MSIE 9.0; Windows NT ...</td>\n",
       "      <td>Simpson, Williams and Pham</td>\n",
       "      <td>675957666125</td>\n",
       "      <td>08/19</td>\n",
       "      <td>699</td>\n",
       "      <td>JCB 16 digit</td>\n",
       "      <td>amymiller@morales-harrison.com</td>\n",
       "      <td>Customer service manager</td>\n",
       "      <td>132.207.160.22</td>\n",
       "      <td>de</td>\n",
       "      <td>0.95</td>\n",
       "    </tr>\n",
       "    <tr>\n",
       "      <th>3</th>\n",
       "      <td>7780 Julia Fords\\nNew Stacy, WA 45798</td>\n",
       "      <td>36 vm</td>\n",
       "      <td>PM</td>\n",
       "      <td>Mozilla/5.0 (Macintosh; Intel Mac OS X 10_8_0 ...</td>\n",
       "      <td>Williams, Marshall and Buchanan</td>\n",
       "      <td>6011578504430710</td>\n",
       "      <td>02/24</td>\n",
       "      <td>384</td>\n",
       "      <td>Discover</td>\n",
       "      <td>brent16@olson-robinson.info</td>\n",
       "      <td>Drilling engineer</td>\n",
       "      <td>30.250.74.19</td>\n",
       "      <td>es</td>\n",
       "      <td>78.04</td>\n",
       "    </tr>\n",
       "    <tr>\n",
       "      <th>4</th>\n",
       "      <td>23012 Munoz Drive Suite 337\\nNew Cynthia, TX 5...</td>\n",
       "      <td>20 IE</td>\n",
       "      <td>AM</td>\n",
       "      <td>Opera/9.58.(X11; Linux x86_64; it-IT) Presto/2...</td>\n",
       "      <td>Brown, Watson and Andrews</td>\n",
       "      <td>6011456623207998</td>\n",
       "      <td>10/25</td>\n",
       "      <td>678</td>\n",
       "      <td>Diners Club / Carte Blanche</td>\n",
       "      <td>christopherwright@gmail.com</td>\n",
       "      <td>Fine artist</td>\n",
       "      <td>24.140.33.94</td>\n",
       "      <td>es</td>\n",
       "      <td>77.82</td>\n",
       "    </tr>\n",
       "  </tbody>\n",
       "</table>\n",
       "</div>"
      ],
      "text/plain": [
       "                                             Address    Lot AM or PM  \\\n",
       "0  16629 Pace Camp Apt. 448\\nAlexisborough, NE 77...  46 in       PM   \n",
       "1  9374 Jasmine Spurs Suite 508\\nSouth John, TN 8...  28 rn       PM   \n",
       "2                   Unit 0065 Box 5052\\nDPO AP 27450  94 vE       PM   \n",
       "3              7780 Julia Fords\\nNew Stacy, WA 45798  36 vm       PM   \n",
       "4  23012 Munoz Drive Suite 337\\nNew Cynthia, TX 5...  20 IE       AM   \n",
       "\n",
       "                                        Browser Info  \\\n",
       "0  Opera/9.56.(X11; Linux x86_64; sl-SI) Presto/2...   \n",
       "1  Opera/8.93.(Windows 98; Win 9x 4.90; en-US) Pr...   \n",
       "2  Mozilla/5.0 (compatible; MSIE 9.0; Windows NT ...   \n",
       "3  Mozilla/5.0 (Macintosh; Intel Mac OS X 10_8_0 ...   \n",
       "4  Opera/9.58.(X11; Linux x86_64; it-IT) Presto/2...   \n",
       "\n",
       "                           Company       Credit Card CC Exp Date  \\\n",
       "0                  Martinez-Herman  6011929061123406       02/20   \n",
       "1  Fletcher, Richards and Whitaker  3337758169645356       11/18   \n",
       "2       Simpson, Williams and Pham      675957666125       08/19   \n",
       "3  Williams, Marshall and Buchanan  6011578504430710       02/24   \n",
       "4        Brown, Watson and Andrews  6011456623207998       10/25   \n",
       "\n",
       "   CC Security Code                  CC Provider  \\\n",
       "0               900                 JCB 16 digit   \n",
       "1               561                   Mastercard   \n",
       "2               699                 JCB 16 digit   \n",
       "3               384                     Discover   \n",
       "4               678  Diners Club / Carte Blanche   \n",
       "\n",
       "                            Email                                     Job  \\\n",
       "0               pdunlap@yahoo.com  Scientist, product/process development   \n",
       "1              anthony41@reed.com                       Drilling engineer   \n",
       "2  amymiller@morales-harrison.com                Customer service manager   \n",
       "3     brent16@olson-robinson.info                       Drilling engineer   \n",
       "4     christopherwright@gmail.com                             Fine artist   \n",
       "\n",
       "        IP Address Language  Purchase Price  \n",
       "0  149.146.147.205       el           98.14  \n",
       "1     15.160.41.51       fr           70.73  \n",
       "2   132.207.160.22       de            0.95  \n",
       "3     30.250.74.19       es           78.04  \n",
       "4     24.140.33.94       es           77.82  "
      ]
     },
     "execution_count": 65,
     "metadata": {},
     "output_type": "execute_result"
    }
   ],
   "source": [
    "ecom.head()"
   ]
  },
  {
   "cell_type": "code",
   "execution_count": 66,
   "metadata": {},
   "outputs": [
    {
     "data": {
      "text/html": [
       "<div>\n",
       "<style scoped>\n",
       "    .dataframe tbody tr th:only-of-type {\n",
       "        vertical-align: middle;\n",
       "    }\n",
       "\n",
       "    .dataframe tbody tr th {\n",
       "        vertical-align: top;\n",
       "    }\n",
       "\n",
       "    .dataframe thead th {\n",
       "        text-align: right;\n",
       "    }\n",
       "</style>\n",
       "<table border=\"1\" class=\"dataframe\">\n",
       "  <thead>\n",
       "    <tr style=\"text-align: right;\">\n",
       "      <th></th>\n",
       "      <th>Address</th>\n",
       "      <th>Lot</th>\n",
       "      <th>AM or PM</th>\n",
       "      <th>Browser Info</th>\n",
       "      <th>Company</th>\n",
       "      <th>Credit Card</th>\n",
       "      <th>CC Exp Date</th>\n",
       "      <th>CC Security Code</th>\n",
       "      <th>CC Provider</th>\n",
       "      <th>Email</th>\n",
       "      <th>Job</th>\n",
       "      <th>IP Address</th>\n",
       "      <th>Language</th>\n",
       "      <th>Purchase Price</th>\n",
       "    </tr>\n",
       "  </thead>\n",
       "  <tbody>\n",
       "    <tr>\n",
       "      <th>1</th>\n",
       "      <td>9374 Jasmine Spurs Suite 508\\nSouth John, TN 8...</td>\n",
       "      <td>28 rn</td>\n",
       "      <td>PM</td>\n",
       "      <td>Opera/8.93.(Windows 98; Win 9x 4.90; en-US) Pr...</td>\n",
       "      <td>Fletcher, Richards and Whitaker</td>\n",
       "      <td>3337758169645356</td>\n",
       "      <td>11/18</td>\n",
       "      <td>561</td>\n",
       "      <td>Mastercard</td>\n",
       "      <td>anthony41@reed.com</td>\n",
       "      <td>Drilling engineer</td>\n",
       "      <td>15.160.41.51</td>\n",
       "      <td>fr</td>\n",
       "      <td>70.73</td>\n",
       "    </tr>\n",
       "    <tr>\n",
       "      <th>3</th>\n",
       "      <td>7780 Julia Fords\\nNew Stacy, WA 45798</td>\n",
       "      <td>36 vm</td>\n",
       "      <td>PM</td>\n",
       "      <td>Mozilla/5.0 (Macintosh; Intel Mac OS X 10_8_0 ...</td>\n",
       "      <td>Williams, Marshall and Buchanan</td>\n",
       "      <td>6011578504430710</td>\n",
       "      <td>02/24</td>\n",
       "      <td>384</td>\n",
       "      <td>Discover</td>\n",
       "      <td>brent16@olson-robinson.info</td>\n",
       "      <td>Drilling engineer</td>\n",
       "      <td>30.250.74.19</td>\n",
       "      <td>es</td>\n",
       "      <td>78.04</td>\n",
       "    </tr>\n",
       "    <tr>\n",
       "      <th>50</th>\n",
       "      <td>41159 Michael Centers\\nAdamsfort, RI 37108-6674</td>\n",
       "      <td>46 Ce</td>\n",
       "      <td>PM</td>\n",
       "      <td>Mozilla/5.0 (Windows 98; Win 9x 4.90; sl-SI; r...</td>\n",
       "      <td>Wright, Williams and Mendez</td>\n",
       "      <td>4008586485908075</td>\n",
       "      <td>05/19</td>\n",
       "      <td>945</td>\n",
       "      <td>JCB 16 digit</td>\n",
       "      <td>susanvalentine@obrien.org</td>\n",
       "      <td>Mechanical engineer</td>\n",
       "      <td>213.203.143.215</td>\n",
       "      <td>de</td>\n",
       "      <td>36.85</td>\n",
       "    </tr>\n",
       "    <tr>\n",
       "      <th>103</th>\n",
       "      <td>480 Ronald Cape\\nJohnville, MA 53644</td>\n",
       "      <td>11 wg</td>\n",
       "      <td>AM</td>\n",
       "      <td>Mozilla/5.0 (Macintosh; U; Intel Mac OS X 10_5...</td>\n",
       "      <td>Brown Inc</td>\n",
       "      <td>30276609779632</td>\n",
       "      <td>03/22</td>\n",
       "      <td>676</td>\n",
       "      <td>Discover</td>\n",
       "      <td>wtownsend@jackson-johnson.biz</td>\n",
       "      <td>Technical sales engineer</td>\n",
       "      <td>119.178.136.56</td>\n",
       "      <td>it</td>\n",
       "      <td>51.37</td>\n",
       "    </tr>\n",
       "    <tr>\n",
       "      <th>193</th>\n",
       "      <td>1010 Mahoney Mills Suite 486\\nWest Daniellevie...</td>\n",
       "      <td>70 Fd</td>\n",
       "      <td>AM</td>\n",
       "      <td>Mozilla/5.0 (X11; Linux i686; rv:1.9.5.20) Gec...</td>\n",
       "      <td>Wilson-Dennis</td>\n",
       "      <td>30359256148796</td>\n",
       "      <td>02/22</td>\n",
       "      <td>62</td>\n",
       "      <td>JCB 16 digit</td>\n",
       "      <td>stacy72@cruz.com</td>\n",
       "      <td>Energy engineer</td>\n",
       "      <td>189.183.41.220</td>\n",
       "      <td>pt</td>\n",
       "      <td>96.79</td>\n",
       "    </tr>\n",
       "    <tr>\n",
       "      <th>200</th>\n",
       "      <td>USCGC Grant\\nFPO AA 10424</td>\n",
       "      <td>97 qN</td>\n",
       "      <td>PM</td>\n",
       "      <td>Mozilla/5.0 (X11; Linux i686; rv:1.9.6.20) Gec...</td>\n",
       "      <td>Barrett LLC</td>\n",
       "      <td>3096521249347703</td>\n",
       "      <td>10/21</td>\n",
       "      <td>155</td>\n",
       "      <td>Voyager</td>\n",
       "      <td>danielsmith@delacruz.biz</td>\n",
       "      <td>Water engineer</td>\n",
       "      <td>132.254.220.76</td>\n",
       "      <td>ru</td>\n",
       "      <td>22.37</td>\n",
       "    </tr>\n",
       "    <tr>\n",
       "      <th>202</th>\n",
       "      <td>24079 Kelly Crest Apt. 260\\nMayerborough, MH 9...</td>\n",
       "      <td>09 rQ</td>\n",
       "      <td>PM</td>\n",
       "      <td>Mozilla/5.0 (Windows 98; Win 9x 4.90) AppleWeb...</td>\n",
       "      <td>Valenzuela PLC</td>\n",
       "      <td>5549558244757443</td>\n",
       "      <td>10/21</td>\n",
       "      <td>539</td>\n",
       "      <td>Discover</td>\n",
       "      <td>thomas52@yahoo.com</td>\n",
       "      <td>Software engineer</td>\n",
       "      <td>216.179.195.90</td>\n",
       "      <td>es</td>\n",
       "      <td>99.28</td>\n",
       "    </tr>\n",
       "    <tr>\n",
       "      <th>246</th>\n",
       "      <td>666 Davis Junction\\nEast Destinyton, IL 88122</td>\n",
       "      <td>50 WE</td>\n",
       "      <td>PM</td>\n",
       "      <td>Mozilla/5.0 (iPod; U; CPU iPhone OS 4_1 like M...</td>\n",
       "      <td>Jacobs, Patel and West</td>\n",
       "      <td>630496818919</td>\n",
       "      <td>05/23</td>\n",
       "      <td>973</td>\n",
       "      <td>Maestro</td>\n",
       "      <td>trussell@moss.info</td>\n",
       "      <td>Structural engineer</td>\n",
       "      <td>1.132.45.80</td>\n",
       "      <td>ru</td>\n",
       "      <td>33.59</td>\n",
       "    </tr>\n",
       "    <tr>\n",
       "      <th>270</th>\n",
       "      <td>6015 Mario Isle\\nPort Jason, IN 20903</td>\n",
       "      <td>78 Ag</td>\n",
       "      <td>PM</td>\n",
       "      <td>Mozilla/5.0 (X11; Linux x86_64; rv:1.9.6.20) G...</td>\n",
       "      <td>Sandoval Inc</td>\n",
       "      <td>869985215977291</td>\n",
       "      <td>04/18</td>\n",
       "      <td>267</td>\n",
       "      <td>JCB 16 digit</td>\n",
       "      <td>murphytravis@yahoo.com</td>\n",
       "      <td>Mining engineer</td>\n",
       "      <td>167.174.92.244</td>\n",
       "      <td>el</td>\n",
       "      <td>81.74</td>\n",
       "    </tr>\n",
       "    <tr>\n",
       "      <th>277</th>\n",
       "      <td>6721 Terry Fort Apt. 660\\nLeeside, WV 25475</td>\n",
       "      <td>35 tW</td>\n",
       "      <td>PM</td>\n",
       "      <td>Mozilla/5.0 (Macintosh; U; PPC Mac OS X 10_5_4...</td>\n",
       "      <td>Moore-Haynes</td>\n",
       "      <td>4625473737474854</td>\n",
       "      <td>04/23</td>\n",
       "      <td>317</td>\n",
       "      <td>Voyager</td>\n",
       "      <td>lauracarlson@obrien.com</td>\n",
       "      <td>Manufacturing systems engineer</td>\n",
       "      <td>89.25.53.218</td>\n",
       "      <td>ru</td>\n",
       "      <td>52.90</td>\n",
       "    </tr>\n",
       "    <tr>\n",
       "      <th>279</th>\n",
       "      <td>68007 Kristin Field\\nJohnsonland, GU 67451</td>\n",
       "      <td>77 Qa</td>\n",
       "      <td>PM</td>\n",
       "      <td>Mozilla/5.0 (iPod; U; CPU iPhone OS 3_1 like M...</td>\n",
       "      <td>White LLC</td>\n",
       "      <td>4050315461724</td>\n",
       "      <td>07/23</td>\n",
       "      <td>277</td>\n",
       "      <td>VISA 16 digit</td>\n",
       "      <td>hsolomon@yahoo.com</td>\n",
       "      <td>Control and instrumentation engineer</td>\n",
       "      <td>56.198.96.201</td>\n",
       "      <td>pt</td>\n",
       "      <td>6.60</td>\n",
       "    </tr>\n",
       "    <tr>\n",
       "      <th>297</th>\n",
       "      <td>995 David Court\\nRichardsonchester, NH 80155</td>\n",
       "      <td>32 aP</td>\n",
       "      <td>PM</td>\n",
       "      <td>Mozilla/5.0 (X11; Linux x86_64) AppleWebKit/53...</td>\n",
       "      <td>Carter-Hawkins</td>\n",
       "      <td>6011801085026560</td>\n",
       "      <td>11/25</td>\n",
       "      <td>353</td>\n",
       "      <td>Mastercard</td>\n",
       "      <td>kdonovan@gmail.com</td>\n",
       "      <td>Consulting civil engineer</td>\n",
       "      <td>196.77.45.135</td>\n",
       "      <td>it</td>\n",
       "      <td>4.08</td>\n",
       "    </tr>\n",
       "    <tr>\n",
       "      <th>318</th>\n",
       "      <td>3436 John Loop\\nEvansville, FM 70811-6773</td>\n",
       "      <td>06 Ut</td>\n",
       "      <td>AM</td>\n",
       "      <td>Opera/8.91.(Windows 95; sl-SI) Presto/2.9.165 ...</td>\n",
       "      <td>Mason-Mccormick</td>\n",
       "      <td>30324839325733</td>\n",
       "      <td>03/19</td>\n",
       "      <td>581</td>\n",
       "      <td>VISA 16 digit</td>\n",
       "      <td>lschmidt@hotmail.com</td>\n",
       "      <td>Site engineer</td>\n",
       "      <td>231.173.219.215</td>\n",
       "      <td>it</td>\n",
       "      <td>30.18</td>\n",
       "    </tr>\n",
       "    <tr>\n",
       "      <th>332</th>\n",
       "      <td>920 Garcia Land Suite 351\\nEast Steventon, AL ...</td>\n",
       "      <td>85 qD</td>\n",
       "      <td>AM</td>\n",
       "      <td>Mozilla/5.0 (Macintosh; U; PPC Mac OS X 10_8_2...</td>\n",
       "      <td>Casey and Sons</td>\n",
       "      <td>6011900262114247</td>\n",
       "      <td>05/26</td>\n",
       "      <td>807</td>\n",
       "      <td>JCB 16 digit</td>\n",
       "      <td>ahenry@richardson.com</td>\n",
       "      <td>Mining engineer</td>\n",
       "      <td>125.131.162.249</td>\n",
       "      <td>it</td>\n",
       "      <td>35.06</td>\n",
       "    </tr>\n",
       "    <tr>\n",
       "      <th>342</th>\n",
       "      <td>87919 Nicholas Pine\\nRuizland, IL 47435</td>\n",
       "      <td>97 AL</td>\n",
       "      <td>PM</td>\n",
       "      <td>Opera/8.86.(Windows 98; Win 9x 4.90; sl-SI) Pr...</td>\n",
       "      <td>Norman Group</td>\n",
       "      <td>4519551364529</td>\n",
       "      <td>05/26</td>\n",
       "      <td>598</td>\n",
       "      <td>Voyager</td>\n",
       "      <td>rodrigueznathaniel@hotmail.com</td>\n",
       "      <td>Consulting civil engineer</td>\n",
       "      <td>91.219.45.193</td>\n",
       "      <td>es</td>\n",
       "      <td>4.16</td>\n",
       "    </tr>\n",
       "    <tr>\n",
       "      <th>349</th>\n",
       "      <td>591 Wallace Summit\\nDawnville, GA 16660</td>\n",
       "      <td>80 pp</td>\n",
       "      <td>PM</td>\n",
       "      <td>Mozilla/5.0 (compatible; MSIE 5.0; Windows NT ...</td>\n",
       "      <td>Wood-Rios</td>\n",
       "      <td>30341632160190</td>\n",
       "      <td>11/18</td>\n",
       "      <td>553</td>\n",
       "      <td>JCB 15 digit</td>\n",
       "      <td>jeffreymccullough@jackson.com</td>\n",
       "      <td>Petroleum engineer</td>\n",
       "      <td>211.182.89.112</td>\n",
       "      <td>en</td>\n",
       "      <td>76.91</td>\n",
       "    </tr>\n",
       "    <tr>\n",
       "      <th>374</th>\n",
       "      <td>14816 Silva Rue Apt. 298\\nJenniferville, OR 45...</td>\n",
       "      <td>49 cY</td>\n",
       "      <td>AM</td>\n",
       "      <td>Mozilla/5.0 (Windows; U; Windows NT 6.1) Apple...</td>\n",
       "      <td>Berg LLC</td>\n",
       "      <td>30526775103599</td>\n",
       "      <td>12/18</td>\n",
       "      <td>201</td>\n",
       "      <td>American Express</td>\n",
       "      <td>ylee@henry.org</td>\n",
       "      <td>Communications engineer</td>\n",
       "      <td>38.9.169.254</td>\n",
       "      <td>fr</td>\n",
       "      <td>19.61</td>\n",
       "    </tr>\n",
       "    <tr>\n",
       "      <th>375</th>\n",
       "      <td>87294 Gregory Springs\\nNew Lindsey, PW 61411</td>\n",
       "      <td>72 ff</td>\n",
       "      <td>PM</td>\n",
       "      <td>Mozilla/5.0 (X11; Linux i686; rv:1.9.7.20) Gec...</td>\n",
       "      <td>Miller and Sons</td>\n",
       "      <td>4008927464229176</td>\n",
       "      <td>11/16</td>\n",
       "      <td>352</td>\n",
       "      <td>VISA 16 digit</td>\n",
       "      <td>davidconway@yahoo.com</td>\n",
       "      <td>Energy engineer</td>\n",
       "      <td>49.122.116.10</td>\n",
       "      <td>de</td>\n",
       "      <td>68.94</td>\n",
       "    </tr>\n",
       "    <tr>\n",
       "      <th>379</th>\n",
       "      <td>0925 Henderson Field Apt. 339\\nBatesstad, NV 0...</td>\n",
       "      <td>58 OQ</td>\n",
       "      <td>PM</td>\n",
       "      <td>Mozilla/5.0 (Windows NT 5.1) AppleWebKit/5321 ...</td>\n",
       "      <td>Griffin-Turner</td>\n",
       "      <td>869957373176388</td>\n",
       "      <td>07/19</td>\n",
       "      <td>702</td>\n",
       "      <td>JCB 15 digit</td>\n",
       "      <td>christopher00@ballard.com</td>\n",
       "      <td>Civil engineer, consulting</td>\n",
       "      <td>225.112.212.190</td>\n",
       "      <td>fr</td>\n",
       "      <td>70.29</td>\n",
       "    </tr>\n",
       "    <tr>\n",
       "      <th>412</th>\n",
       "      <td>35308 Anthony Meadows\\nKingland, DC 95123-0583</td>\n",
       "      <td>29 jw</td>\n",
       "      <td>PM</td>\n",
       "      <td>Mozilla/5.0 (X11; Linux i686; rv:1.9.5.20) Gec...</td>\n",
       "      <td>Watson LLC</td>\n",
       "      <td>180057805375534</td>\n",
       "      <td>09/18</td>\n",
       "      <td>167</td>\n",
       "      <td>Mastercard</td>\n",
       "      <td>fergusonlarry@gmail.com</td>\n",
       "      <td>Mining engineer</td>\n",
       "      <td>137.2.135.68</td>\n",
       "      <td>de</td>\n",
       "      <td>32.41</td>\n",
       "    </tr>\n",
       "    <tr>\n",
       "      <th>466</th>\n",
       "      <td>22944 Moss Corners Apt. 501\\nAmberstad, IA 017...</td>\n",
       "      <td>85 Su</td>\n",
       "      <td>AM</td>\n",
       "      <td>Opera/9.48.(X11; Linux x86_64; en-US) Presto/2...</td>\n",
       "      <td>Walker, Miles and Dean</td>\n",
       "      <td>3337640748360667</td>\n",
       "      <td>03/20</td>\n",
       "      <td>200</td>\n",
       "      <td>Discover</td>\n",
       "      <td>lorraineochoa@reed.com</td>\n",
       "      <td>Automotive engineer</td>\n",
       "      <td>6.120.192.215</td>\n",
       "      <td>en</td>\n",
       "      <td>98.17</td>\n",
       "    </tr>\n",
       "    <tr>\n",
       "      <th>471</th>\n",
       "      <td>294 Lee Street\\nWest Christopherside, MS 66193...</td>\n",
       "      <td>73 jL</td>\n",
       "      <td>PM</td>\n",
       "      <td>Mozilla/5.0 (compatible; MSIE 5.0; Windows NT ...</td>\n",
       "      <td>Rivera, Rodriguez and Page</td>\n",
       "      <td>4507146543434</td>\n",
       "      <td>08/21</td>\n",
       "      <td>521</td>\n",
       "      <td>VISA 16 digit</td>\n",
       "      <td>jenniferrodriguez@perez.info</td>\n",
       "      <td>Contracting civil engineer</td>\n",
       "      <td>72.79.35.217</td>\n",
       "      <td>fr</td>\n",
       "      <td>72.37</td>\n",
       "    </tr>\n",
       "    <tr>\n",
       "      <th>477</th>\n",
       "      <td>907 Sean Prairie\\nPort Michelleview, VI 69496-...</td>\n",
       "      <td>73 dP</td>\n",
       "      <td>PM</td>\n",
       "      <td>Mozilla/5.0 (X11; Linux x86_64; rv:1.9.5.20) G...</td>\n",
       "      <td>Jenkins-Rush</td>\n",
       "      <td>345012848927918</td>\n",
       "      <td>01/19</td>\n",
       "      <td>882</td>\n",
       "      <td>VISA 13 digit</td>\n",
       "      <td>dorothy63@yahoo.com</td>\n",
       "      <td>Maintenance engineer</td>\n",
       "      <td>213.70.17.237</td>\n",
       "      <td>ru</td>\n",
       "      <td>26.61</td>\n",
       "    </tr>\n",
       "    <tr>\n",
       "      <th>492</th>\n",
       "      <td>PSC 6288, Box 9865\\nAPO AE 40968</td>\n",
       "      <td>48 Tu</td>\n",
       "      <td>PM</td>\n",
       "      <td>Mozilla/5.0 (Macintosh; U; Intel Mac OS X 10_5...</td>\n",
       "      <td>Nelson LLC</td>\n",
       "      <td>3337562003890230</td>\n",
       "      <td>04/24</td>\n",
       "      <td>171</td>\n",
       "      <td>Maestro</td>\n",
       "      <td>rwilliams@clark-simpson.com</td>\n",
       "      <td>Broadcast engineer</td>\n",
       "      <td>203.79.48.60</td>\n",
       "      <td>de</td>\n",
       "      <td>32.36</td>\n",
       "    </tr>\n",
       "    <tr>\n",
       "      <th>500</th>\n",
       "      <td>73566 Lopez Knolls Apt. 214\\nCaitlinshire, CT ...</td>\n",
       "      <td>68 ji</td>\n",
       "      <td>AM</td>\n",
       "      <td>Mozilla/5.0 (Windows 95) AppleWebKit/5311 (KHT...</td>\n",
       "      <td>Snow, Thomas and Smith</td>\n",
       "      <td>30535854310926</td>\n",
       "      <td>12/16</td>\n",
       "      <td>917</td>\n",
       "      <td>Maestro</td>\n",
       "      <td>utravis@gmail.com</td>\n",
       "      <td>Structural engineer</td>\n",
       "      <td>230.200.132.55</td>\n",
       "      <td>el</td>\n",
       "      <td>12.17</td>\n",
       "    </tr>\n",
       "    <tr>\n",
       "      <th>513</th>\n",
       "      <td>50398 Mccoy Rest Suite 597\\nSouth Garyborough,...</td>\n",
       "      <td>90 WT</td>\n",
       "      <td>AM</td>\n",
       "      <td>Mozilla/5.0 (iPod; U; CPU iPhone OS 3_2 like M...</td>\n",
       "      <td>Bright PLC</td>\n",
       "      <td>630438419693</td>\n",
       "      <td>11/19</td>\n",
       "      <td>173</td>\n",
       "      <td>American Express</td>\n",
       "      <td>jesse00@page.net</td>\n",
       "      <td>Energy engineer</td>\n",
       "      <td>156.70.208.94</td>\n",
       "      <td>ru</td>\n",
       "      <td>75.10</td>\n",
       "    </tr>\n",
       "    <tr>\n",
       "      <th>522</th>\n",
       "      <td>0839 Contreras Street Suite 545\\nJulieville, A...</td>\n",
       "      <td>37 qr</td>\n",
       "      <td>AM</td>\n",
       "      <td>Opera/9.84.(Windows NT 5.1; sl-SI) Presto/2.9....</td>\n",
       "      <td>Jensen-Anderson</td>\n",
       "      <td>5510361404763672</td>\n",
       "      <td>01/18</td>\n",
       "      <td>181</td>\n",
       "      <td>JCB 15 digit</td>\n",
       "      <td>vanessashah@gmail.com</td>\n",
       "      <td>Petroleum engineer</td>\n",
       "      <td>197.168.145.23</td>\n",
       "      <td>zh</td>\n",
       "      <td>52.29</td>\n",
       "    </tr>\n",
       "    <tr>\n",
       "      <th>553</th>\n",
       "      <td>080 Kathleen Square\\nNew Caitlin, UT 43546</td>\n",
       "      <td>11 ra</td>\n",
       "      <td>AM</td>\n",
       "      <td>Mozilla/5.0 (Macintosh; U; PPC Mac OS X 10_5_8...</td>\n",
       "      <td>Palmer, Wise and Stuart</td>\n",
       "      <td>180084823116765</td>\n",
       "      <td>04/25</td>\n",
       "      <td>425</td>\n",
       "      <td>Discover</td>\n",
       "      <td>christina57@smith-nunez.info</td>\n",
       "      <td>Agricultural engineer</td>\n",
       "      <td>249.117.125.227</td>\n",
       "      <td>zh</td>\n",
       "      <td>31.26</td>\n",
       "    </tr>\n",
       "    <tr>\n",
       "      <th>562</th>\n",
       "      <td>75832 Jenkins Square Apt. 657\\nLake Joanneport...</td>\n",
       "      <td>31 HF</td>\n",
       "      <td>PM</td>\n",
       "      <td>Mozilla/5.0 (X11; Linux i686) AppleWebKit/5332...</td>\n",
       "      <td>Mendoza PLC</td>\n",
       "      <td>6011361303091110</td>\n",
       "      <td>03/25</td>\n",
       "      <td>332</td>\n",
       "      <td>JCB 15 digit</td>\n",
       "      <td>julie19@rodriguez.com</td>\n",
       "      <td>Petroleum engineer</td>\n",
       "      <td>15.138.63.145</td>\n",
       "      <td>zh</td>\n",
       "      <td>14.48</td>\n",
       "    </tr>\n",
       "    <tr>\n",
       "      <th>648</th>\n",
       "      <td>213 Melinda Isle\\nCodymouth, AK 61157-1343</td>\n",
       "      <td>54 iF</td>\n",
       "      <td>AM</td>\n",
       "      <td>Mozilla/5.0 (Windows NT 4.0; it-IT; rv:1.9.2.2...</td>\n",
       "      <td>Jackson Group</td>\n",
       "      <td>3096725302192134</td>\n",
       "      <td>11/21</td>\n",
       "      <td>888</td>\n",
       "      <td>American Express</td>\n",
       "      <td>kevin29@terrell.biz</td>\n",
       "      <td>Electrical engineer</td>\n",
       "      <td>139.179.235.205</td>\n",
       "      <td>es</td>\n",
       "      <td>58.66</td>\n",
       "    </tr>\n",
       "    <tr>\n",
       "      <th>...</th>\n",
       "      <td>...</td>\n",
       "      <td>...</td>\n",
       "      <td>...</td>\n",
       "      <td>...</td>\n",
       "      <td>...</td>\n",
       "      <td>...</td>\n",
       "      <td>...</td>\n",
       "      <td>...</td>\n",
       "      <td>...</td>\n",
       "      <td>...</td>\n",
       "      <td>...</td>\n",
       "      <td>...</td>\n",
       "      <td>...</td>\n",
       "      <td>...</td>\n",
       "    </tr>\n",
       "    <tr>\n",
       "      <th>9370</th>\n",
       "      <td>13922 Lowery Shore Suite 015\\nSarahfurt, VT 84809</td>\n",
       "      <td>51 kS</td>\n",
       "      <td>AM</td>\n",
       "      <td>Mozilla/5.0 (Macintosh; PPC Mac OS X 10_5_5) A...</td>\n",
       "      <td>Campbell, Santiago and Ferguson</td>\n",
       "      <td>589397852247</td>\n",
       "      <td>01/26</td>\n",
       "      <td>917</td>\n",
       "      <td>Discover</td>\n",
       "      <td>teresa13@byrd.com</td>\n",
       "      <td>Building services engineer</td>\n",
       "      <td>73.77.236.177</td>\n",
       "      <td>en</td>\n",
       "      <td>42.46</td>\n",
       "    </tr>\n",
       "    <tr>\n",
       "      <th>9400</th>\n",
       "      <td>4005 Gray Mountains Suite 328\\nNatashaside, ID...</td>\n",
       "      <td>70 GE</td>\n",
       "      <td>AM</td>\n",
       "      <td>Mozilla/5.0 (compatible; MSIE 5.0; Windows 98;...</td>\n",
       "      <td>Baker, Meza and Gamble</td>\n",
       "      <td>4188108260265</td>\n",
       "      <td>04/17</td>\n",
       "      <td>446</td>\n",
       "      <td>JCB 16 digit</td>\n",
       "      <td>djohnson@yahoo.com</td>\n",
       "      <td>Materials engineer</td>\n",
       "      <td>55.151.50.98</td>\n",
       "      <td>zh</td>\n",
       "      <td>40.66</td>\n",
       "    </tr>\n",
       "    <tr>\n",
       "      <th>9464</th>\n",
       "      <td>631 Alexis Pike Suite 160\\nLarsonbury, VT 2247...</td>\n",
       "      <td>58 QU</td>\n",
       "      <td>AM</td>\n",
       "      <td>Mozilla/5.0 (X11; Linux x86_64) AppleWebKit/53...</td>\n",
       "      <td>Knight Group</td>\n",
       "      <td>210003030696488</td>\n",
       "      <td>01/26</td>\n",
       "      <td>726</td>\n",
       "      <td>VISA 16 digit</td>\n",
       "      <td>ibrown@hotmail.com</td>\n",
       "      <td>Maintenance engineer</td>\n",
       "      <td>120.226.100.149</td>\n",
       "      <td>de</td>\n",
       "      <td>28.27</td>\n",
       "    </tr>\n",
       "    <tr>\n",
       "      <th>9514</th>\n",
       "      <td>08435 Kelly Fort Apt. 749\\nCharlestown, AZ 722...</td>\n",
       "      <td>01 aN</td>\n",
       "      <td>AM</td>\n",
       "      <td>Mozilla/5.0 (compatible; MSIE 9.0; Windows NT ...</td>\n",
       "      <td>Chambers-Martin</td>\n",
       "      <td>6011043573509530</td>\n",
       "      <td>01/26</td>\n",
       "      <td>4007</td>\n",
       "      <td>Voyager</td>\n",
       "      <td>myersthomas@hotmail.com</td>\n",
       "      <td>Drilling engineer</td>\n",
       "      <td>135.224.134.191</td>\n",
       "      <td>ru</td>\n",
       "      <td>78.76</td>\n",
       "    </tr>\n",
       "    <tr>\n",
       "      <th>9518</th>\n",
       "      <td>959 James Valley Suite 782\\nCraigfurt, MN 7128...</td>\n",
       "      <td>46 Bf</td>\n",
       "      <td>AM</td>\n",
       "      <td>Mozilla/5.0 (iPod; U; CPU iPhone OS 4_2 like M...</td>\n",
       "      <td>Carter, White and Evans</td>\n",
       "      <td>3528781149018790</td>\n",
       "      <td>07/22</td>\n",
       "      <td>925</td>\n",
       "      <td>VISA 16 digit</td>\n",
       "      <td>mdavis@howell-reed.info</td>\n",
       "      <td>Materials engineer</td>\n",
       "      <td>213.53.139.34</td>\n",
       "      <td>el</td>\n",
       "      <td>51.54</td>\n",
       "    </tr>\n",
       "    <tr>\n",
       "      <th>9552</th>\n",
       "      <td>743 Robertson Curve Suite 920\\nRomeroborough, ...</td>\n",
       "      <td>93 oq</td>\n",
       "      <td>AM</td>\n",
       "      <td>Mozilla/5.0 (Windows NT 5.01) AppleWebKit/5340...</td>\n",
       "      <td>Martinez LLC</td>\n",
       "      <td>5394279700714291</td>\n",
       "      <td>08/19</td>\n",
       "      <td>77</td>\n",
       "      <td>VISA 16 digit</td>\n",
       "      <td>suzannemoore@green.com</td>\n",
       "      <td>Geologist, engineering</td>\n",
       "      <td>91.245.134.148</td>\n",
       "      <td>pt</td>\n",
       "      <td>76.24</td>\n",
       "    </tr>\n",
       "    <tr>\n",
       "      <th>9559</th>\n",
       "      <td>746 Sullivan Viaduct Suite 195\\nMoorebury, SD ...</td>\n",
       "      <td>54 Me</td>\n",
       "      <td>PM</td>\n",
       "      <td>Mozilla/5.0 (iPod; U; CPU iPhone OS 4_0 like M...</td>\n",
       "      <td>Nguyen-Morgan</td>\n",
       "      <td>3096025251959918</td>\n",
       "      <td>08/21</td>\n",
       "      <td>905</td>\n",
       "      <td>Voyager</td>\n",
       "      <td>elizabethtaylor@gmail.com</td>\n",
       "      <td>Electronics engineer</td>\n",
       "      <td>226.21.17.243</td>\n",
       "      <td>de</td>\n",
       "      <td>38.62</td>\n",
       "    </tr>\n",
       "    <tr>\n",
       "      <th>9577</th>\n",
       "      <td>7405 Cantu Ramp\\nSouth Lori, TN 90318-1932</td>\n",
       "      <td>82 lP</td>\n",
       "      <td>PM</td>\n",
       "      <td>Opera/8.85.(Windows 98; sl-SI) Presto/2.9.168 ...</td>\n",
       "      <td>Gibson-Merritt</td>\n",
       "      <td>5448057431728848</td>\n",
       "      <td>06/18</td>\n",
       "      <td>151</td>\n",
       "      <td>VISA 16 digit</td>\n",
       "      <td>warebrittany@johnson.com</td>\n",
       "      <td>Civil engineer, contracting</td>\n",
       "      <td>193.78.206.39</td>\n",
       "      <td>en</td>\n",
       "      <td>29.43</td>\n",
       "    </tr>\n",
       "    <tr>\n",
       "      <th>9712</th>\n",
       "      <td>8964 Watkins Wall Suite 371\\nBrewerchester, MO...</td>\n",
       "      <td>44 zL</td>\n",
       "      <td>AM</td>\n",
       "      <td>Mozilla/5.0 (Macintosh; PPC Mac OS X 10_5_5 rv...</td>\n",
       "      <td>Sullivan, Collins and Ramos</td>\n",
       "      <td>639049116358</td>\n",
       "      <td>07/22</td>\n",
       "      <td>840</td>\n",
       "      <td>Voyager</td>\n",
       "      <td>uwalter@randall.com</td>\n",
       "      <td>Agricultural engineer</td>\n",
       "      <td>114.216.190.15</td>\n",
       "      <td>it</td>\n",
       "      <td>18.13</td>\n",
       "    </tr>\n",
       "    <tr>\n",
       "      <th>9714</th>\n",
       "      <td>513 John Bridge\\nTimothyland, WI 29029-1657</td>\n",
       "      <td>45 HQ</td>\n",
       "      <td>AM</td>\n",
       "      <td>Mozilla/5.0 (X11; Linux i686) AppleWebKit/5352...</td>\n",
       "      <td>Lee-Brown</td>\n",
       "      <td>3528467963119480</td>\n",
       "      <td>12/24</td>\n",
       "      <td>61</td>\n",
       "      <td>VISA 16 digit</td>\n",
       "      <td>landrews@pena-wong.com</td>\n",
       "      <td>Electronics engineer</td>\n",
       "      <td>199.100.11.144</td>\n",
       "      <td>de</td>\n",
       "      <td>60.54</td>\n",
       "    </tr>\n",
       "    <tr>\n",
       "      <th>9715</th>\n",
       "      <td>08186 Darren Bypass Apt. 622\\nPort Amandamouth...</td>\n",
       "      <td>26 zN</td>\n",
       "      <td>PM</td>\n",
       "      <td>Mozilla/5.0 (iPod; U; CPU iPhone OS 4_1 like M...</td>\n",
       "      <td>Adams PLC</td>\n",
       "      <td>348427947649436</td>\n",
       "      <td>06/22</td>\n",
       "      <td>961</td>\n",
       "      <td>Voyager</td>\n",
       "      <td>deckerkimberly@hotmail.com</td>\n",
       "      <td>Building services engineer</td>\n",
       "      <td>27.56.125.28</td>\n",
       "      <td>en</td>\n",
       "      <td>97.52</td>\n",
       "    </tr>\n",
       "    <tr>\n",
       "      <th>9780</th>\n",
       "      <td>2203 Carlos Plains\\nBeckerstad, CO 44247-1590</td>\n",
       "      <td>03 LY</td>\n",
       "      <td>PM</td>\n",
       "      <td>Opera/9.51.(X11; Linux x86_64; sl-SI) Presto/2...</td>\n",
       "      <td>Thompson-Spencer</td>\n",
       "      <td>30566585123338</td>\n",
       "      <td>12/25</td>\n",
       "      <td>729</td>\n",
       "      <td>JCB 16 digit</td>\n",
       "      <td>michaelprice@gmail.com</td>\n",
       "      <td>Network engineer</td>\n",
       "      <td>251.142.31.170</td>\n",
       "      <td>zh</td>\n",
       "      <td>94.94</td>\n",
       "    </tr>\n",
       "    <tr>\n",
       "      <th>9787</th>\n",
       "      <td>723 Rose Road\\nStewartshire, OR 73342-7852</td>\n",
       "      <td>14 rH</td>\n",
       "      <td>AM</td>\n",
       "      <td>Mozilla/5.0 (X11; Linux i686) AppleWebKit/5330...</td>\n",
       "      <td>Mcdonald, Vargas and White</td>\n",
       "      <td>3528616207013376</td>\n",
       "      <td>06/22</td>\n",
       "      <td>464</td>\n",
       "      <td>VISA 13 digit</td>\n",
       "      <td>gmartinez@hotmail.com</td>\n",
       "      <td>Maintenance engineer</td>\n",
       "      <td>43.113.254.223</td>\n",
       "      <td>it</td>\n",
       "      <td>89.06</td>\n",
       "    </tr>\n",
       "    <tr>\n",
       "      <th>9794</th>\n",
       "      <td>67518 Steven Ford\\nLake Thomas, MA 23654</td>\n",
       "      <td>38 yV</td>\n",
       "      <td>AM</td>\n",
       "      <td>Mozilla/5.0 (Windows 98; Win 9x 4.90) AppleWeb...</td>\n",
       "      <td>Garcia and Sons</td>\n",
       "      <td>869914159206228</td>\n",
       "      <td>09/18</td>\n",
       "      <td>163</td>\n",
       "      <td>Voyager</td>\n",
       "      <td>vsummers@hotmail.com</td>\n",
       "      <td>Network engineer</td>\n",
       "      <td>169.119.197.201</td>\n",
       "      <td>pt</td>\n",
       "      <td>94.12</td>\n",
       "    </tr>\n",
       "    <tr>\n",
       "      <th>9799</th>\n",
       "      <td>2530 Dawson Ferry\\nAshleyborough, TN 72994-3350</td>\n",
       "      <td>59 xK</td>\n",
       "      <td>AM</td>\n",
       "      <td>Mozilla/5.0 (Windows; U; Windows NT 5.2) Apple...</td>\n",
       "      <td>Madden Ltd</td>\n",
       "      <td>5129474397775307</td>\n",
       "      <td>03/20</td>\n",
       "      <td>696</td>\n",
       "      <td>VISA 16 digit</td>\n",
       "      <td>aaronjones@hotmail.com</td>\n",
       "      <td>Technical sales engineer</td>\n",
       "      <td>95.199.84.41</td>\n",
       "      <td>el</td>\n",
       "      <td>52.09</td>\n",
       "    </tr>\n",
       "    <tr>\n",
       "      <th>9817</th>\n",
       "      <td>706 Martinez Meadow Suite 511\\nEast Jamesfurt,...</td>\n",
       "      <td>60 CN</td>\n",
       "      <td>PM</td>\n",
       "      <td>Mozilla/5.0 (compatible; MSIE 8.0; Windows 98;...</td>\n",
       "      <td>Lopez, Shea and Lara</td>\n",
       "      <td>4800997774444823</td>\n",
       "      <td>03/18</td>\n",
       "      <td>998</td>\n",
       "      <td>VISA 16 digit</td>\n",
       "      <td>sergio83@hotmail.com</td>\n",
       "      <td>Production engineer</td>\n",
       "      <td>148.212.192.117</td>\n",
       "      <td>pt</td>\n",
       "      <td>55.00</td>\n",
       "    </tr>\n",
       "    <tr>\n",
       "      <th>9825</th>\n",
       "      <td>21339 Cardenas Avenue\\nMeyersmouth, IA 67085</td>\n",
       "      <td>13 uy</td>\n",
       "      <td>PM</td>\n",
       "      <td>Opera/8.65.(X11; Linux i686; it-IT) Presto/2.9...</td>\n",
       "      <td>Giles LLC</td>\n",
       "      <td>3158659448272457</td>\n",
       "      <td>09/21</td>\n",
       "      <td>481</td>\n",
       "      <td>Mastercard</td>\n",
       "      <td>guerrarebecca@hotmail.com</td>\n",
       "      <td>Network engineer</td>\n",
       "      <td>102.75.139.129</td>\n",
       "      <td>it</td>\n",
       "      <td>89.33</td>\n",
       "    </tr>\n",
       "    <tr>\n",
       "      <th>9834</th>\n",
       "      <td>662 Richard Orchard\\nNorth Kristin, KS 98073</td>\n",
       "      <td>84 IH</td>\n",
       "      <td>AM</td>\n",
       "      <td>Opera/8.52.(Windows NT 5.01; en-US) Presto/2.9...</td>\n",
       "      <td>Peterson-Mckenzie</td>\n",
       "      <td>4736602207016</td>\n",
       "      <td>12/22</td>\n",
       "      <td>679</td>\n",
       "      <td>JCB 16 digit</td>\n",
       "      <td>ctrevino@powell.com</td>\n",
       "      <td>Petroleum engineer</td>\n",
       "      <td>123.125.18.52</td>\n",
       "      <td>en</td>\n",
       "      <td>96.61</td>\n",
       "    </tr>\n",
       "    <tr>\n",
       "      <th>9843</th>\n",
       "      <td>286 Denise Hills Suite 857\\nEast Lauren, WY 16362</td>\n",
       "      <td>04 Ya</td>\n",
       "      <td>PM</td>\n",
       "      <td>Mozilla/5.0 (Windows; U; Windows CE) AppleWebK...</td>\n",
       "      <td>Choi LLC</td>\n",
       "      <td>4631037405037970</td>\n",
       "      <td>10/17</td>\n",
       "      <td>6</td>\n",
       "      <td>American Express</td>\n",
       "      <td>samanthasanchez@hotmail.com</td>\n",
       "      <td>Water engineer</td>\n",
       "      <td>245.47.69.20</td>\n",
       "      <td>el</td>\n",
       "      <td>81.98</td>\n",
       "    </tr>\n",
       "    <tr>\n",
       "      <th>9845</th>\n",
       "      <td>981 Paul Turnpike\\nNorth Johnny, SD 84668</td>\n",
       "      <td>42 lx</td>\n",
       "      <td>AM</td>\n",
       "      <td>Mozilla/5.0 (Macintosh; Intel Mac OS X 10_7_9;...</td>\n",
       "      <td>Jackson LLC</td>\n",
       "      <td>3096699118584711</td>\n",
       "      <td>07/17</td>\n",
       "      <td>827</td>\n",
       "      <td>Voyager</td>\n",
       "      <td>vhinton@yahoo.com</td>\n",
       "      <td>Electronics engineer</td>\n",
       "      <td>122.208.181.63</td>\n",
       "      <td>pt</td>\n",
       "      <td>94.77</td>\n",
       "    </tr>\n",
       "    <tr>\n",
       "      <th>9848</th>\n",
       "      <td>4996 Huerta Plaza Suite 725\\nHenryhaven, VI 76745</td>\n",
       "      <td>69 uC</td>\n",
       "      <td>AM</td>\n",
       "      <td>Mozilla/5.0 (Windows NT 5.01) AppleWebKit/5322...</td>\n",
       "      <td>Mueller Inc</td>\n",
       "      <td>676130079863</td>\n",
       "      <td>08/17</td>\n",
       "      <td>7328</td>\n",
       "      <td>VISA 16 digit</td>\n",
       "      <td>zlee@mckee.info</td>\n",
       "      <td>Technical sales engineer</td>\n",
       "      <td>202.31.123.235</td>\n",
       "      <td>el</td>\n",
       "      <td>56.70</td>\n",
       "    </tr>\n",
       "    <tr>\n",
       "      <th>9856</th>\n",
       "      <td>058 Miranda Locks Suite 792\\nPort Davidstad, P...</td>\n",
       "      <td>73 IW</td>\n",
       "      <td>PM</td>\n",
       "      <td>Mozilla/5.0 (Windows NT 5.0) AppleWebKit/5360 ...</td>\n",
       "      <td>Olson-Navarro</td>\n",
       "      <td>6011037226242937</td>\n",
       "      <td>03/18</td>\n",
       "      <td>757</td>\n",
       "      <td>American Express</td>\n",
       "      <td>brendastewart@dalton.info</td>\n",
       "      <td>Site engineer</td>\n",
       "      <td>96.79.250.154</td>\n",
       "      <td>de</td>\n",
       "      <td>99.97</td>\n",
       "    </tr>\n",
       "    <tr>\n",
       "      <th>9892</th>\n",
       "      <td>640 David Estates\\nEast Michael, MI 12686-7370</td>\n",
       "      <td>91 wL</td>\n",
       "      <td>AM</td>\n",
       "      <td>Mozilla/5.0 (Macintosh; U; PPC Mac OS X 10_5_9...</td>\n",
       "      <td>Day, Rodriguez and Booth</td>\n",
       "      <td>376017272462425</td>\n",
       "      <td>10/18</td>\n",
       "      <td>418</td>\n",
       "      <td>JCB 15 digit</td>\n",
       "      <td>jeffreyluna@yahoo.com</td>\n",
       "      <td>Water engineer</td>\n",
       "      <td>234.84.101.179</td>\n",
       "      <td>fr</td>\n",
       "      <td>20.33</td>\n",
       "    </tr>\n",
       "    <tr>\n",
       "      <th>9898</th>\n",
       "      <td>0715 Jennifer Land\\nRichardstad, VA 58683</td>\n",
       "      <td>99 nw</td>\n",
       "      <td>PM</td>\n",
       "      <td>Mozilla/5.0 (Windows; U; Windows NT 5.01) Appl...</td>\n",
       "      <td>Wright, Maxwell and Ochoa</td>\n",
       "      <td>30112144732432</td>\n",
       "      <td>08/18</td>\n",
       "      <td>270</td>\n",
       "      <td>Maestro</td>\n",
       "      <td>stanleyroach@gmail.com</td>\n",
       "      <td>Automotive engineer</td>\n",
       "      <td>133.138.146.220</td>\n",
       "      <td>es</td>\n",
       "      <td>79.37</td>\n",
       "    </tr>\n",
       "    <tr>\n",
       "      <th>9900</th>\n",
       "      <td>881 Julie Orchard Suite 722\\nNorth Jonathan, O...</td>\n",
       "      <td>94 yV</td>\n",
       "      <td>PM</td>\n",
       "      <td>Opera/9.22.(Windows NT 6.0; it-IT) Presto/2.9....</td>\n",
       "      <td>Anderson, Little and Parker</td>\n",
       "      <td>30035348786641</td>\n",
       "      <td>06/23</td>\n",
       "      <td>31</td>\n",
       "      <td>VISA 16 digit</td>\n",
       "      <td>harriscarl@dominguez.com</td>\n",
       "      <td>Mining engineer</td>\n",
       "      <td>19.11.202.68</td>\n",
       "      <td>fr</td>\n",
       "      <td>75.86</td>\n",
       "    </tr>\n",
       "    <tr>\n",
       "      <th>9934</th>\n",
       "      <td>52276 Smith Cliffs\\nLake Vanessaview, AL 91791</td>\n",
       "      <td>40 nG</td>\n",
       "      <td>AM</td>\n",
       "      <td>Opera/9.62.(Windows NT 5.0; sl-SI) Presto/2.9....</td>\n",
       "      <td>Clay LLC</td>\n",
       "      <td>5148775191773208</td>\n",
       "      <td>05/23</td>\n",
       "      <td>583</td>\n",
       "      <td>VISA 16 digit</td>\n",
       "      <td>popejames@yahoo.com</td>\n",
       "      <td>Consulting civil engineer</td>\n",
       "      <td>130.63.250.128</td>\n",
       "      <td>el</td>\n",
       "      <td>99.75</td>\n",
       "    </tr>\n",
       "    <tr>\n",
       "      <th>9948</th>\n",
       "      <td>95544 Johnson Isle Suite 939\\nMichaelberg, RI ...</td>\n",
       "      <td>91 bW</td>\n",
       "      <td>AM</td>\n",
       "      <td>Opera/8.36.(X11; Linux x86_64; sl-SI) Presto/2...</td>\n",
       "      <td>Fox-Peterson</td>\n",
       "      <td>4762924304307</td>\n",
       "      <td>03/17</td>\n",
       "      <td>567</td>\n",
       "      <td>Mastercard</td>\n",
       "      <td>haleybenjamin@gmail.com</td>\n",
       "      <td>Structural engineer</td>\n",
       "      <td>120.36.140.58</td>\n",
       "      <td>en</td>\n",
       "      <td>71.89</td>\n",
       "    </tr>\n",
       "    <tr>\n",
       "      <th>9970</th>\n",
       "      <td>0060 Keith Stream\\nWestport, CO 47097</td>\n",
       "      <td>11 nt</td>\n",
       "      <td>PM</td>\n",
       "      <td>Mozilla/5.0 (Macintosh; U; Intel Mac OS X 10_8...</td>\n",
       "      <td>Carpenter, Good and Hart</td>\n",
       "      <td>6011485664704662</td>\n",
       "      <td>07/19</td>\n",
       "      <td>543</td>\n",
       "      <td>Discover</td>\n",
       "      <td>rangelbrian@hotmail.com</td>\n",
       "      <td>Electrical engineer</td>\n",
       "      <td>242.8.85.205</td>\n",
       "      <td>en</td>\n",
       "      <td>17.76</td>\n",
       "    </tr>\n",
       "    <tr>\n",
       "      <th>9977</th>\n",
       "      <td>02182 Keith Expressway\\nEast Shannon, CT 20578...</td>\n",
       "      <td>34 RL</td>\n",
       "      <td>AM</td>\n",
       "      <td>Mozilla/5.0 (compatible; MSIE 9.0; Windows NT ...</td>\n",
       "      <td>Deleon, Jacobson and Benton</td>\n",
       "      <td>4186094003664688</td>\n",
       "      <td>06/21</td>\n",
       "      <td>397</td>\n",
       "      <td>JCB 16 digit</td>\n",
       "      <td>daltoncarter@yahoo.com</td>\n",
       "      <td>Biomedical engineer</td>\n",
       "      <td>146.238.118.2</td>\n",
       "      <td>fr</td>\n",
       "      <td>94.93</td>\n",
       "    </tr>\n",
       "    <tr>\n",
       "      <th>9996</th>\n",
       "      <td>832 Curtis Dam Suite 785\\nNorth Edwardburgh, T...</td>\n",
       "      <td>41 JY</td>\n",
       "      <td>AM</td>\n",
       "      <td>Mozilla/5.0 (compatible; MSIE 9.0; Windows NT ...</td>\n",
       "      <td>Hale, Collins and Wilson</td>\n",
       "      <td>210033169205009</td>\n",
       "      <td>07/25</td>\n",
       "      <td>207</td>\n",
       "      <td>JCB 16 digit</td>\n",
       "      <td>mary85@hotmail.com</td>\n",
       "      <td>Energy engineer</td>\n",
       "      <td>121.133.168.51</td>\n",
       "      <td>pt</td>\n",
       "      <td>25.63</td>\n",
       "    </tr>\n",
       "  </tbody>\n",
       "</table>\n",
       "<p>531 rows × 14 columns</p>\n",
       "</div>"
      ],
      "text/plain": [
       "                                                Address    Lot AM or PM  \\\n",
       "1     9374 Jasmine Spurs Suite 508\\nSouth John, TN 8...  28 rn       PM   \n",
       "3                 7780 Julia Fords\\nNew Stacy, WA 45798  36 vm       PM   \n",
       "50      41159 Michael Centers\\nAdamsfort, RI 37108-6674  46 Ce       PM   \n",
       "103                480 Ronald Cape\\nJohnville, MA 53644  11 wg       AM   \n",
       "193   1010 Mahoney Mills Suite 486\\nWest Daniellevie...  70 Fd       AM   \n",
       "...                                                 ...    ...      ...   \n",
       "9934     52276 Smith Cliffs\\nLake Vanessaview, AL 91791  40 nG       AM   \n",
       "9948  95544 Johnson Isle Suite 939\\nMichaelberg, RI ...  91 bW       AM   \n",
       "9970              0060 Keith Stream\\nWestport, CO 47097  11 nt       PM   \n",
       "9977  02182 Keith Expressway\\nEast Shannon, CT 20578...  34 RL       AM   \n",
       "9996  832 Curtis Dam Suite 785\\nNorth Edwardburgh, T...  41 JY       AM   \n",
       "\n",
       "                                           Browser Info  \\\n",
       "1     Opera/8.93.(Windows 98; Win 9x 4.90; en-US) Pr...   \n",
       "3     Mozilla/5.0 (Macintosh; Intel Mac OS X 10_8_0 ...   \n",
       "50    Mozilla/5.0 (Windows 98; Win 9x 4.90; sl-SI; r...   \n",
       "103   Mozilla/5.0 (Macintosh; U; Intel Mac OS X 10_5...   \n",
       "193   Mozilla/5.0 (X11; Linux i686; rv:1.9.5.20) Gec...   \n",
       "...                                                 ...   \n",
       "9934  Opera/9.62.(Windows NT 5.0; sl-SI) Presto/2.9....   \n",
       "9948  Opera/8.36.(X11; Linux x86_64; sl-SI) Presto/2...   \n",
       "9970  Mozilla/5.0 (Macintosh; U; Intel Mac OS X 10_8...   \n",
       "9977  Mozilla/5.0 (compatible; MSIE 9.0; Windows NT ...   \n",
       "9996  Mozilla/5.0 (compatible; MSIE 9.0; Windows NT ...   \n",
       "\n",
       "                              Company       Credit Card CC Exp Date  \\\n",
       "1     Fletcher, Richards and Whitaker  3337758169645356       11/18   \n",
       "3     Williams, Marshall and Buchanan  6011578504430710       02/24   \n",
       "50        Wright, Williams and Mendez  4008586485908075       05/19   \n",
       "103                         Brown Inc    30276609779632       03/22   \n",
       "193                     Wilson-Dennis    30359256148796       02/22   \n",
       "...                               ...               ...         ...   \n",
       "9934                         Clay LLC  5148775191773208       05/23   \n",
       "9948                     Fox-Peterson     4762924304307       03/17   \n",
       "9970         Carpenter, Good and Hart  6011485664704662       07/19   \n",
       "9977      Deleon, Jacobson and Benton  4186094003664688       06/21   \n",
       "9996         Hale, Collins and Wilson   210033169205009       07/25   \n",
       "\n",
       "      CC Security Code    CC Provider                          Email  \\\n",
       "1                  561     Mastercard             anthony41@reed.com   \n",
       "3                  384       Discover    brent16@olson-robinson.info   \n",
       "50                 945   JCB 16 digit      susanvalentine@obrien.org   \n",
       "103                676       Discover  wtownsend@jackson-johnson.biz   \n",
       "193                 62   JCB 16 digit               stacy72@cruz.com   \n",
       "...                ...            ...                            ...   \n",
       "9934               583  VISA 16 digit            popejames@yahoo.com   \n",
       "9948               567     Mastercard        haleybenjamin@gmail.com   \n",
       "9970               543       Discover        rangelbrian@hotmail.com   \n",
       "9977               397   JCB 16 digit         daltoncarter@yahoo.com   \n",
       "9996               207   JCB 16 digit             mary85@hotmail.com   \n",
       "\n",
       "                            Job       IP Address Language  Purchase Price  \n",
       "1             Drilling engineer     15.160.41.51       fr           70.73  \n",
       "3             Drilling engineer     30.250.74.19       es           78.04  \n",
       "50          Mechanical engineer  213.203.143.215       de           36.85  \n",
       "103    Technical sales engineer   119.178.136.56       it           51.37  \n",
       "193             Energy engineer   189.183.41.220       pt           96.79  \n",
       "...                         ...              ...      ...             ...  \n",
       "9934  Consulting civil engineer   130.63.250.128       el           99.75  \n",
       "9948        Structural engineer    120.36.140.58       en           71.89  \n",
       "9970        Electrical engineer     242.8.85.205       en           17.76  \n",
       "9977        Biomedical engineer    146.238.118.2       fr           94.93  \n",
       "9996            Energy engineer   121.133.168.51       pt           25.63  \n",
       "\n",
       "[531 rows x 14 columns]"
      ]
     },
     "execution_count": 66,
     "metadata": {},
     "output_type": "execute_result"
    }
   ],
   "source": [
    "ecom[ecom['Job'].str.contains('engineer')]"
   ]
  },
  {
   "cell_type": "markdown",
   "metadata": {
    "colab_type": "text",
    "id": "ON1YLiRaSpVL"
   },
   "source": [
    "** How many rows and columns are there? **"
   ]
  },
  {
   "cell_type": "code",
   "execution_count": 67,
   "metadata": {
    "colab": {},
    "colab_type": "code",
    "id": "c89Vxlj9SpVL"
   },
   "outputs": [
    {
     "name": "stdout",
     "output_type": "stream",
     "text": [
      "<class 'pandas.core.frame.DataFrame'>\n",
      "RangeIndex: 10000 entries, 0 to 9999\n",
      "Data columns (total 14 columns):\n",
      "Address             10000 non-null object\n",
      "Lot                 10000 non-null object\n",
      "AM or PM            10000 non-null object\n",
      "Browser Info        10000 non-null object\n",
      "Company             10000 non-null object\n",
      "Credit Card         10000 non-null int64\n",
      "CC Exp Date         10000 non-null object\n",
      "CC Security Code    10000 non-null int64\n",
      "CC Provider         10000 non-null object\n",
      "Email               10000 non-null object\n",
      "Job                 10000 non-null object\n",
      "IP Address          10000 non-null object\n",
      "Language            10000 non-null object\n",
      "Purchase Price      10000 non-null float64\n",
      "dtypes: float64(1), int64(2), object(11)\n",
      "memory usage: 1.1+ MB\n"
     ]
    }
   ],
   "source": [
    "ecom.info()"
   ]
  },
  {
   "cell_type": "markdown",
   "metadata": {
    "colab_type": "text",
    "id": "spJYkecySpVN"
   },
   "source": [
    "** What is the average Purchase Price? **"
   ]
  },
  {
   "cell_type": "code",
   "execution_count": 68,
   "metadata": {
    "colab": {},
    "colab_type": "code",
    "id": "BjcSkOEbSpVO"
   },
   "outputs": [
    {
     "data": {
      "text/plain": [
       "50.347302"
      ]
     },
     "execution_count": 68,
     "metadata": {},
     "output_type": "execute_result"
    }
   ],
   "source": [
    "ecom['Purchase Price'].mean()"
   ]
  },
  {
   "cell_type": "markdown",
   "metadata": {
    "colab_type": "text",
    "id": "SHY_WJ57SpVQ"
   },
   "source": [
    "** What were the highest and lowest purchase prices? **"
   ]
  },
  {
   "cell_type": "code",
   "execution_count": 69,
   "metadata": {
    "colab": {},
    "colab_type": "code",
    "id": "qBXOhnaZSpVR"
   },
   "outputs": [
    {
     "data": {
      "text/plain": [
       "99.99"
      ]
     },
     "execution_count": 69,
     "metadata": {},
     "output_type": "execute_result"
    }
   ],
   "source": [
    "ecom['Purchase Price'].max()"
   ]
  },
  {
   "cell_type": "code",
   "execution_count": 70,
   "metadata": {
    "colab": {},
    "colab_type": "code",
    "id": "25GB4jyWSpVS"
   },
   "outputs": [
    {
     "data": {
      "text/plain": [
       "0.0"
      ]
     },
     "execution_count": 70,
     "metadata": {},
     "output_type": "execute_result"
    }
   ],
   "source": [
    "ecom['Purchase Price'].min()"
   ]
  },
  {
   "cell_type": "markdown",
   "metadata": {
    "colab_type": "text",
    "id": "f_mOjL5ISpVU"
   },
   "source": [
    "** How many people have English 'en' as their Language of choice on the website? **"
   ]
  },
  {
   "cell_type": "code",
   "execution_count": 71,
   "metadata": {
    "colab": {},
    "colab_type": "code",
    "id": "nh7tH5TaSpVV"
   },
   "outputs": [
    {
     "data": {
      "text/plain": [
       "Address             1098\n",
       "Lot                 1098\n",
       "AM or PM            1098\n",
       "Browser Info        1098\n",
       "Company             1098\n",
       "Credit Card         1098\n",
       "CC Exp Date         1098\n",
       "CC Security Code    1098\n",
       "CC Provider         1098\n",
       "Email               1098\n",
       "Job                 1098\n",
       "IP Address          1098\n",
       "Language            1098\n",
       "Purchase Price      1098\n",
       "dtype: int64"
      ]
     },
     "execution_count": 71,
     "metadata": {},
     "output_type": "execute_result"
    }
   ],
   "source": [
    "ecom[ecom['Language']=='en'].count()"
   ]
  },
  {
   "cell_type": "markdown",
   "metadata": {
    "colab_type": "text",
    "id": "_6CO05scSpVW"
   },
   "source": [
    "** How many people have the job title of \"Lawyer\" ? **\n"
   ]
  },
  {
   "cell_type": "code",
   "execution_count": 72,
   "metadata": {
    "colab": {},
    "colab_type": "code",
    "id": "6AFGunBKSpVX"
   },
   "outputs": [
    {
     "name": "stdout",
     "output_type": "stream",
     "text": [
      "<class 'pandas.core.frame.DataFrame'>\n",
      "Int64Index: 30 entries, 470 to 9979\n",
      "Data columns (total 14 columns):\n",
      "Address             30 non-null object\n",
      "Lot                 30 non-null object\n",
      "AM or PM            30 non-null object\n",
      "Browser Info        30 non-null object\n",
      "Company             30 non-null object\n",
      "Credit Card         30 non-null int64\n",
      "CC Exp Date         30 non-null object\n",
      "CC Security Code    30 non-null int64\n",
      "CC Provider         30 non-null object\n",
      "Email               30 non-null object\n",
      "Job                 30 non-null object\n",
      "IP Address          30 non-null object\n",
      "Language            30 non-null object\n",
      "Purchase Price      30 non-null float64\n",
      "dtypes: float64(1), int64(2), object(11)\n",
      "memory usage: 3.5+ KB\n"
     ]
    }
   ],
   "source": [
    "ecom[ecom['Job'] == 'Lawyer'].info()"
   ]
  },
  {
   "cell_type": "markdown",
   "metadata": {
    "colab_type": "text",
    "id": "rQRraxRGSpVa"
   },
   "source": [
    "** How many people made the purchase during the AM and how many people made the purchase during PM ? **\n",
    "\n",
    "**(Hint: Check out [value_counts()](http://pandas.pydata.org/pandas-docs/stable/generated/pandas.Series.value_counts.html) ) **"
   ]
  },
  {
   "cell_type": "code",
   "execution_count": 73,
   "metadata": {
    "colab": {},
    "colab_type": "code",
    "id": "8NfgdruoSpVb"
   },
   "outputs": [
    {
     "data": {
      "text/plain": [
       "PM    5068\n",
       "AM    4932\n",
       "Name: AM or PM, dtype: int64"
      ]
     },
     "execution_count": 73,
     "metadata": {},
     "output_type": "execute_result"
    }
   ],
   "source": [
    "ecom['AM or PM'].value_counts()"
   ]
  },
  {
   "cell_type": "markdown",
   "metadata": {
    "colab_type": "text",
    "id": "utKMY8w6SpVc"
   },
   "source": [
    "** What are the 5 most common Job Titles? **"
   ]
  },
  {
   "cell_type": "code",
   "execution_count": 74,
   "metadata": {
    "colab": {},
    "colab_type": "code",
    "id": "RNFWQI43SpVd"
   },
   "outputs": [
    {
     "data": {
      "text/plain": [
       "Interior and spatial designer    31\n",
       "Lawyer                           30\n",
       "Social researcher                28\n",
       "Purchasing manager               27\n",
       "Designer, jewellery              27\n",
       "Name: Job, dtype: int64"
      ]
     },
     "execution_count": 74,
     "metadata": {},
     "output_type": "execute_result"
    }
   ],
   "source": [
    "ecom['Job'].value_counts().head(5)"
   ]
  },
  {
   "cell_type": "markdown",
   "metadata": {
    "colab_type": "text",
    "id": "OoWjhPx_SpVe"
   },
   "source": [
    "** Someone made a purchase that came from Lot: \"90 WT\" , what was the Purchase Price for this transaction? **"
   ]
  },
  {
   "cell_type": "code",
   "execution_count": 75,
   "metadata": {
    "colab": {},
    "colab_type": "code",
    "id": "4PQEoXw0SpVf"
   },
   "outputs": [
    {
     "data": {
      "text/plain": [
       "513    75.1\n",
       "Name: Purchase Price, dtype: float64"
      ]
     },
     "execution_count": 75,
     "metadata": {},
     "output_type": "execute_result"
    }
   ],
   "source": [
    "ecom[ecom['Lot']=='90 WT']['Purchase Price']"
   ]
  },
  {
   "cell_type": "markdown",
   "metadata": {
    "colab_type": "text",
    "id": "lF7JdGvSSpVi"
   },
   "source": [
    "** What is the email of the person with the following Credit Card Number: 4926535242672853 **"
   ]
  },
  {
   "cell_type": "code",
   "execution_count": 76,
   "metadata": {
    "colab": {},
    "colab_type": "code",
    "id": "OrFz3rssSpVi"
   },
   "outputs": [
    {
     "data": {
      "text/plain": [
       "1234    bondellen@williams-garza.com\n",
       "Name: Email, dtype: object"
      ]
     },
     "execution_count": 76,
     "metadata": {},
     "output_type": "execute_result"
    }
   ],
   "source": [
    "ecom[ecom[\"Credit Card\"] == 4926535242672853]['Email'] "
   ]
  },
  {
   "cell_type": "markdown",
   "metadata": {
    "colab_type": "text",
    "id": "2CMP8TeeSpVk"
   },
   "source": [
    "** How many people have American Express as their Credit Card Provider *and* made a purchase above $95 ?**"
   ]
  },
  {
   "cell_type": "code",
   "execution_count": 77,
   "metadata": {
    "colab": {},
    "colab_type": "code",
    "id": "fuleyWEpSpVk"
   },
   "outputs": [
    {
     "data": {
      "text/plain": [
       "Address             39\n",
       "Lot                 39\n",
       "AM or PM            39\n",
       "Browser Info        39\n",
       "Company             39\n",
       "Credit Card         39\n",
       "CC Exp Date         39\n",
       "CC Security Code    39\n",
       "CC Provider         39\n",
       "Email               39\n",
       "Job                 39\n",
       "IP Address          39\n",
       "Language            39\n",
       "Purchase Price      39\n",
       "dtype: int64"
      ]
     },
     "execution_count": 77,
     "metadata": {},
     "output_type": "execute_result"
    }
   ],
   "source": [
    "ecom[(ecom['CC Provider']=='American Express') & (ecom['Purchase Price']>95)].count()"
   ]
  },
  {
   "cell_type": "markdown",
   "metadata": {
    "colab_type": "text",
    "id": "4MmQV1SMSpVn"
   },
   "source": [
    "** Hard: How many people have a credit card that expires in 2025? **"
   ]
  },
  {
   "cell_type": "code",
   "execution_count": 78,
   "metadata": {
    "colab": {},
    "colab_type": "code",
    "id": "dc0oAkuiSpVo"
   },
   "outputs": [
    {
     "data": {
      "text/plain": [
       "1033"
      ]
     },
     "execution_count": 78,
     "metadata": {},
     "output_type": "execute_result"
    }
   ],
   "source": [
    "sum(ecom['CC Exp Date'].apply(lambda x: x[3:]) == '25')"
   ]
  },
  {
   "cell_type": "markdown",
   "metadata": {
    "colab_type": "text",
    "id": "xW1NZAePSpVp"
   },
   "source": [
    "** Hard: What are the top 5 most popular email providers/hosts (e.g. gmail.com, yahoo.com, etc...) **"
   ]
  },
  {
   "cell_type": "code",
   "execution_count": 79,
   "metadata": {
    "colab": {},
    "colab_type": "code",
    "id": "uKyeYUEBSpVq"
   },
   "outputs": [
    {
     "data": {
      "text/plain": [
       "hotmail.com     1638\n",
       "yahoo.com       1616\n",
       "gmail.com       1605\n",
       "smith.com         42\n",
       "williams.com      37\n",
       "Name: Email, dtype: int64"
      ]
     },
     "execution_count": 79,
     "metadata": {},
     "output_type": "execute_result"
    }
   ],
   "source": [
    "ecom['Email'].apply(lambda x: x.split('@')[1]).value_counts().head(5)"
   ]
  },
  {
   "cell_type": "markdown",
   "metadata": {
    "colab_type": "text",
    "id": "AMbdPsnDSpVs"
   },
   "source": [
    "# <center>4 - Matplotlib Exercises</center>"
   ]
  },
  {
   "cell_type": "code",
   "execution_count": 80,
   "metadata": {
    "colab": {},
    "colab_type": "code",
    "id": "PeUvK-1nSpVs"
   },
   "outputs": [],
   "source": [
    "x = np.arange(0,100)\n",
    "y = x*2\n",
    "z = x**2"
   ]
  },
  {
   "cell_type": "markdown",
   "metadata": {
    "colab_type": "text",
    "id": "7K17faCRSpVt"
   },
   "source": [
    "** Import matplotlib.pyplot as plt and set %matplotlib inline if you are using the jupyter notebook. What command do you use if you aren't using the jupyter notebook?**"
   ]
  },
  {
   "cell_type": "code",
   "execution_count": 81,
   "metadata": {
    "colab": {},
    "colab_type": "code",
    "id": "M5Ny2pyeSpVu"
   },
   "outputs": [],
   "source": [
    "import matplotlib.pyplot as plt\n",
    "%matplotlib inline\n",
    "# plt.show() for non-notebook users"
   ]
  },
  {
   "cell_type": "markdown",
   "metadata": {
    "colab_type": "text",
    "id": "7MC205b1SpVv"
   },
   "source": [
    "## Exercise 1\n",
    "\n",
    "** Follow along with these steps: **\n",
    "* ** Create a figure object called fig using plt.figure() **\n",
    "* ** Use add_axes to add an axis to the figure canvas at [0,0,1,1]. Call this new axis ax. **\n",
    "* ** Plot (x,y) on that axes and set the labels and titles to match the plot below:**"
   ]
  },
  {
   "cell_type": "code",
   "execution_count": 82,
   "metadata": {
    "colab": {},
    "colab_type": "code",
    "id": "Vn1t6zHHSpVw"
   },
   "outputs": [
    {
     "data": {
      "text/plain": [
       "Text(0.5, 1.0, 'title')"
      ]
     },
     "execution_count": 82,
     "metadata": {},
     "output_type": "execute_result"
    },
    {
     "data": {
      "image/png": "[encoded data removed]",
      "text/plain": [
       "<Figure size 432x288 with 1 Axes>"
      ]
     },
     "metadata": {
      "needs_background": "light"
     },
     "output_type": "display_data"
    }
   ],
   "source": [
    "fig = plt.figure()\n",
    "ax = fig.add_axes([0,0,1,1])\n",
    "ax.plot(x,y)\n",
    "ax.set_xlabel('x')\n",
    "ax.set_ylabel('y')\n",
    "ax.set_title('title')"
   ]
  },
  {
   "cell_type": "markdown",
   "metadata": {
    "colab_type": "text",
    "id": "jmqaPoH3SpVy"
   },
   "source": [
    "## Exercise 2\n",
    "** Create a figure object and put two axes on it, ax1 and ax2. Located at [0,0,1,1] and [0.2,0.5,.2,.2] respectively.**"
   ]
  },
  {
   "cell_type": "code",
   "execution_count": 83,
   "metadata": {
    "colab": {},
    "colab_type": "code",
    "id": "ZfWysDqSSpV0"
   },
   "outputs": [
    {
     "data": {
      "image/png": "[encoded data removed]",
      "text/plain": [
       "<Figure size 432x288 with 2 Axes>"
      ]
     },
     "metadata": {
      "needs_background": "light"
     },
     "output_type": "display_data"
    }
   ],
   "source": [
    "fig = plt.figure()\n",
    "\n",
    "ax1 = fig.add_axes([0,0,1,1])\n",
    "ax2 = fig.add_axes([0.2,0.5,.2,.2])"
   ]
  },
  {
   "cell_type": "markdown",
   "metadata": {
    "colab_type": "text",
    "id": "frVawmM2SpV1"
   },
   "source": [
    "** Now plot (x,y) on both axes. And call your figure object to show it.**"
   ]
  },
  {
   "cell_type": "code",
   "execution_count": 84,
   "metadata": {
    "colab": {},
    "colab_type": "code",
    "id": "NKFIq0vGSpV1"
   },
   "outputs": [
    {
     "data": {
      "image/png": "[encoded data removed]",
      "text/plain": [
       "<Figure size 432x288 with 2 Axes>"
      ]
     },
     "execution_count": 84,
     "metadata": {},
     "output_type": "execute_result"
    }
   ],
   "source": [
    "ax1.plot(x,y)\n",
    "ax1.set_xlabel('x')\n",
    "ax1.set_ylabel('y')\n",
    "\n",
    "\n",
    "ax2.plot(x,y)\n",
    "ax2.set_xlabel('x')\n",
    "ax2.set_ylabel('y')\n",
    "\n",
    "fig # Show figure object"
   ]
  },
  {
   "cell_type": "markdown",
   "metadata": {
    "colab_type": "text",
    "id": "aa0gnprhSpV5"
   },
   "source": [
    "## Exercise 3\n",
    "\n",
    "** Create the plot below by adding two axes to a figure object at [0,0,1,1] and [0.2,0.5,.4,.4]**"
   ]
  },
  {
   "cell_type": "code",
   "execution_count": 85,
   "metadata": {
    "colab": {},
    "colab_type": "code",
    "id": "Hm_V7jrDSpV5"
   },
   "outputs": [
    {
     "data": {
      "image/png": "[encoded data removed]",
      "text/plain": [
       "<Figure size 432x288 with 2 Axes>"
      ]
     },
     "metadata": {
      "needs_background": "light"
     },
     "output_type": "display_data"
    }
   ],
   "source": [
    "fig = plt.figure()\n",
    "\n",
    "ax = fig.add_axes([0,0,1,1])\n",
    "ax2 = fig.add_axes([0.2,0.5,.4,.4])"
   ]
  },
  {
   "cell_type": "markdown",
   "metadata": {
    "colab_type": "text",
    "id": "yrq_GrDnSpV7"
   },
   "source": [
    "** Now use x,y, and z arrays to recreate the plot below. Notice the xlimits and y limits on the inserted plot:**"
   ]
  },
  {
   "cell_type": "code",
   "execution_count": 86,
   "metadata": {
    "colab": {},
    "colab_type": "code",
    "id": "GVVjpZY1SpV7"
   },
   "outputs": [
    {
     "data": {
      "image/png": "[encoded data removed]",
      "text/plain": [
       "<Figure size 432x288 with 2 Axes>"
      ]
     },
     "execution_count": 86,
     "metadata": {},
     "output_type": "execute_result"
    }
   ],
   "source": [
    "ax.plot(x,z)\n",
    "ax.set_xlabel('X')\n",
    "ax.set_ylabel('Z')\n",
    "\n",
    "\n",
    "ax2.plot(x,y)\n",
    "ax2.set_xlabel('X')\n",
    "ax2.set_ylabel('Y')\n",
    "ax2.set_title('zoom')\n",
    "ax2.set_xlim(20,22)\n",
    "ax2.set_ylim(30,50)\n",
    "\n",
    "fig"
   ]
  },
  {
   "cell_type": "markdown",
   "metadata": {
    "colab_type": "text",
    "id": "2zW0vZnvSpV9"
   },
   "source": [
    "## Exercise 4\n",
    "\n",
    "** Use plt.subplots(nrows=1, ncols=2) to create the plot below.**"
   ]
  },
  {
   "cell_type": "code",
   "execution_count": 87,
   "metadata": {
    "colab": {},
    "colab_type": "code",
    "id": "EvJnoN62SpV9"
   },
   "outputs": [
    {
     "data": {
      "image/png": "[encoded data removed]",
      "text/plain": [
       "<Figure size 432x288 with 2 Axes>"
      ]
     },
     "metadata": {
      "needs_background": "light"
     },
     "output_type": "display_data"
    }
   ],
   "source": [
    "# Empty canvas of 1 by 2 subplots\n",
    "fig, axes = plt.subplots(nrows=1, ncols=2)"
   ]
  },
  {
   "cell_type": "markdown",
   "metadata": {
    "colab_type": "text",
    "id": "YV7HAk9TSpV_"
   },
   "source": [
    "** Now plot (x,y) and (x,z) on the axes. Play around with the linewidth and style**"
   ]
  },
  {
   "cell_type": "code",
   "execution_count": 88,
   "metadata": {
    "colab": {},
    "colab_type": "code",
    "id": "Xl6ovgPOSpV_"
   },
   "outputs": [
    {
     "data": {
      "image/png": "[encoded data removed]",
      "text/plain": [
       "<Figure size 432x288 with 2 Axes>"
      ]
     },
     "execution_count": 88,
     "metadata": {},
     "output_type": "execute_result"
    }
   ],
   "source": [
    "axes[0].plot(x,y,color=\"blue\", lw=3, ls='--')\n",
    "axes[1].plot(x,z,color=\"red\", lw=3, ls='-')\n",
    "fig"
   ]
  },
  {
   "cell_type": "markdown",
   "metadata": {
    "colab_type": "text",
    "id": "BEdOGJRNSpWB"
   },
   "source": [
    "** See if you can resize the plot by adding the figsize() argument in plt.subplots() are copying and pasting your previous code.**"
   ]
  },
  {
   "cell_type": "code",
   "execution_count": 89,
   "metadata": {
    "colab": {},
    "colab_type": "code",
    "id": "qZ1dRiQeSpWD"
   },
   "outputs": [
    {
     "data": {
      "text/plain": [
       "Text(0, 0.5, 'z')"
      ]
     },
     "execution_count": 89,
     "metadata": {},
     "output_type": "execute_result"
    },
    {
     "data": {
      "image/png": "[encoded data removed]",
      "text/plain": [
       "<Figure size 864x144 with 2 Axes>"
      ]
     },
     "metadata": {
      "needs_background": "light"
     },
     "output_type": "display_data"
    }
   ],
   "source": [
    "fig, axes = plt.subplots(nrows=1, ncols=2,figsize=(12,2))\n",
    "\n",
    "axes[0].plot(x,y,color=\"blue\", lw=5)\n",
    "axes[0].set_xlabel('x')\n",
    "axes[0].set_ylabel('y')\n",
    "\n",
    "axes[1].plot(x,z,color=\"red\", lw=3, ls='--')\n",
    "axes[1].set_xlabel('x')\n",
    "axes[1].set_ylabel('z')"
   ]
  },
  {
   "cell_type": "markdown",
   "metadata": {},
   "source": [
    "** Try to plot box plots of lawyer purchases VS engineer purchases**"
   ]
  },
  {
   "cell_type": "code",
   "execution_count": 90,
   "metadata": {},
   "outputs": [
    {
     "data": {
      "text/plain": [
       "{'whiskers': [<matplotlib.lines.Line2D at 0x7fa4bb7a59e8>,\n",
       "  <matplotlib.lines.Line2D at 0x7fa4bb7a5d30>,\n",
       "  <matplotlib.lines.Line2D at 0x7fa4bb742198>,\n",
       "  <matplotlib.lines.Line2D at 0x7fa4bb7424e0>],\n",
       " 'caps': [<matplotlib.lines.Line2D at 0x7fa4bb7370b8>,\n",
       "  <matplotlib.lines.Line2D at 0x7fa4bb737400>,\n",
       "  <matplotlib.lines.Line2D at 0x7fa4bb742828>,\n",
       "  <matplotlib.lines.Line2D at 0x7fa4bb742b70>],\n",
       " 'boxes': [<matplotlib.lines.Line2D at 0x7fa4bb7a5630>,\n",
       "  <matplotlib.lines.Line2D at 0x7fa4bb737e10>],\n",
       " 'medians': [<matplotlib.lines.Line2D at 0x7fa4bb737748>,\n",
       "  <matplotlib.lines.Line2D at 0x7fa4bb742eb8>],\n",
       " 'fliers': [<matplotlib.lines.Line2D at 0x7fa4bb737a90>,\n",
       "  <matplotlib.lines.Line2D at 0x7fa4bb74c240>],\n",
       " 'means': []}"
      ]
     },
     "execution_count": 90,
     "metadata": {},
     "output_type": "execute_result"
    },
    {
     "data": {
      "image/png": "[encoded data removed]",
      "text/plain": [
       "<Figure size 432x288 with 1 Axes>"
      ]
     },
     "metadata": {
      "needs_background": "light"
     },
     "output_type": "display_data"
    }
   ],
   "source": [
    "import matplotlib.pyplot as plt\n",
    "fig1, ax1 = plt.subplots()\n",
    "ax1.set_title('Lawyer Purchases VS Engineer Purchases')\n",
    "law = ecom[ecom['Job'] == 'Lawyer']['Purchase Price']\n",
    "eng = ecom[ecom['Job'].str.contains('engineer')]['Purchase Price']\n",
    "data = [law,eng]\n",
    "ax1.boxplot(data,notch=True)"
   ]
  },
  {
   "cell_type": "markdown",
   "metadata": {},
   "source": [
    "** Print the means just to make sure your box plots are notched at the right numbers**"
   ]
  },
  {
   "cell_type": "code",
   "execution_count": 91,
   "metadata": {},
   "outputs": [
    {
     "data": {
      "text/plain": [
       "53.46166666666666"
      ]
     },
     "execution_count": 91,
     "metadata": {},
     "output_type": "execute_result"
    }
   ],
   "source": [
    "ecom[ecom['Job'] == 'Lawyer']['Purchase Price'].mean()"
   ]
  },
  {
   "cell_type": "code",
   "execution_count": 92,
   "metadata": {},
   "outputs": [
    {
     "data": {
      "text/plain": [
       "49.423578154425606"
      ]
     },
     "execution_count": 92,
     "metadata": {},
     "output_type": "execute_result"
    }
   ],
   "source": [
    "ecom[ecom['Job'].str.contains('engineer')]['Purchase Price'].mean()"
   ]
  },
  {
   "cell_type": "markdown",
   "metadata": {
    "colab_type": "text",
    "id": "ZUbavhEpSpWF"
   },
   "source": [
    "# <center>Reference</center>\n",
    "<center> https://www.udemy.com/python-for-data-science-and-machine-learning-bootcamp/ </center>"
   ]
  },
  {
   "cell_type": "markdown",
   "metadata": {
    "colab_type": "text",
    "id": "96HAk727SpWH"
   },
   "source": [
    "# <center>Thank You</center>"
   ]
  }
 ],
 "metadata": {
  "colab": {
   "name": "ML_Tutorial_1.ipynb",
   "provenance": [],
   "version": "0.3.2"
  },
  "kernelspec": {
   "display_name": "Python 3",
   "language": "python",
   "name": "python3"
  },
  "language_info": {
   "codemirror_mode": {
    "name": "ipython",
    "version": 3
   },
   "file_extension": ".py",
   "mimetype": "text/x-python",
   "name": "python",
   "nbconvert_exporter": "python",
   "pygments_lexer": "ipython3",
   "version": "3.6.5"
  }
 },
 "nbformat": 4,
 "nbformat_minor": 1
}
